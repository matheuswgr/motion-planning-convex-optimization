{
 "cells": [
  {
   "cell_type": "markdown",
   "metadata": {},
   "source": [
    "#### Imports"
   ]
  },
  {
   "cell_type": "code",
   "execution_count": 14,
   "metadata": {},
   "outputs": [],
   "source": [
    "using Plots\n",
    "using Random"
   ]
  },
  {
   "cell_type": "markdown",
   "metadata": {},
   "source": [
    "# Motion Planning Using Convex Optimization"
   ]
  },
  {
   "cell_type": "markdown",
   "metadata": {},
   "source": [
    "## Model"
   ]
  },
  {
   "cell_type": "code",
   "execution_count": 12,
   "metadata": {},
   "outputs": [],
   "source": [
    "struct Point\n",
    "    x::Float64\n",
    "    y::Float64\n",
    "end"
   ]
  },
  {
   "cell_type": "code",
   "execution_count": 13,
   "metadata": {},
   "outputs": [],
   "source": [
    "struct Pose\n",
    "    position::Point\n",
    "    orientation::Float64\n",
    "end"
   ]
  },
  {
   "cell_type": "code",
   "execution_count": 50,
   "metadata": {},
   "outputs": [
    {
     "data": {
      "text/plain": [
       "GenerateRandomConvexPolygon (generic function with 1 method)"
      ]
     },
     "metadata": {},
     "output_type": "display_data"
    }
   ],
   "source": [
    "function GenerateRandomConvexPolygon(numberOfVertices::Int64)\n",
    "    xCoordinateRandomPoints = []\n",
    "    yCoordinateRandomPoints = []\n",
    "\n",
    "    for i in 1:numberOfVertices\n",
    "        append!(xCoordinateRandomPoints, rand())\n",
    "        append!(yCoordinateRandomPoints, rand())\n",
    "    end\n",
    "\n",
    "    sort!(xCoordinateRandomPoints)\n",
    "    sort!(yCoordinateRandomPoints)\n",
    "\n",
    "    minimumX = xCoordinateRandomPoints[1]\n",
    "    maximumX = xCoordinateRandomPoints[numberOfVertices]\n",
    "    minimumY = xCoordinateRandomPoints[1]\n",
    "    maximumY = xCoordinateRandomPoints[numberOfVertices]\n",
    "\n",
    "\n",
    "    xVectors = []\n",
    "    yVectors = []\n",
    "\n",
    "    lastTop = minimumX\n",
    "    lastBot = minimumX;\n",
    "\n",
    "    for i in 2:numberOfVertices-1\n",
    "        x = xCoordinateRandomPoints[i];\n",
    "\n",
    "        if (rand(Bool)) {\n",
    "            append!(xVectors, x - lastTop)\n",
    "            lastTop = x;\n",
    "        } else {\n",
    "            append!(xVectors, x - lastBot)\n",
    "            lastBot = x;\n",
    "        }\n",
    "\n",
    "    append!(xVectors, maximumX - lastTop)\n",
    "    append!(xVectors, lastBot - maximumX)\n",
    "\n",
    "    double lastLeft = minY, lastRight = minY;\n",
    "\n",
    "    for (int i = 1; i < n - 1; i++) {\n",
    "        double y = yPool.get(i);\n",
    "\n",
    "        if (rand(Bool)) {\n",
    "            yVec.add(y - lastLeft);\n",
    "            lastLeft = y;\n",
    "        } else {\n",
    "            yVec.add(lastRight - y);\n",
    "            lastRight = y;\n",
    "        }\n",
    "    }\n",
    "\n",
    "    yVec.add(maxY - lastLeft);\n",
    "    yVec.add(lastRight - maxY);\n",
    "\n",
    "end\n"
   ]
  },
  {
   "cell_type": "code",
   "execution_count": 56,
   "metadata": {},
   "outputs": [
    {
     "data": {
      "text/plain": [
       "true"
      ]
     },
     "metadata": {},
     "output_type": "display_data"
    }
   ],
   "source": []
  },
  {
   "cell_type": "code",
   "execution_count": 51,
   "metadata": {},
   "outputs": [
    {
     "name": "stdout",
     "output_type": "stream",
     "text": [
      "Any[0.2535350471290888, 0.5844415558862293, 0.7620089842815002, 0.7854463770049906, 0.9479028398516919]0.2535350471290888\n",
      "0.9479028398516919"
     ]
    }
   ],
   "source": [
    "GenerateRandomPoint()"
   ]
  },
  {
   "cell_type": "markdown",
   "metadata": {},
   "source": [
    "## Random Map Generation"
   ]
  },
  {
   "cell_type": "markdown",
   "metadata": {},
   "source": [
    "### Random Convex Polygon Generation"
   ]
  },
  {
   "cell_type": "markdown",
   "metadata": {},
   "source": [
    "reference: https://cglab.ca/~sander/misc/ConvexGeneration/convex.html"
   ]
  },
  {
   "cell_type": "code",
   "execution_count": 7,
   "metadata": {},
   "outputs": [
    {
     "data": {
      "text/plain": [
       "Point(1.0, 2.0)"
      ]
     },
     "metadata": {},
     "output_type": "display_data"
    }
   ],
   "source": [
    "point = Point(1,2)"
   ]
  },
  {
   "cell_type": "code",
   "execution_count": 9,
   "metadata": {},
   "outputs": [
    {
     "data": {
      "text/plain": [
       "2.0"
      ]
     },
     "metadata": {},
     "output_type": "display_data"
    }
   ],
   "source": [
    "point.y"
   ]
  },
  {
   "cell_type": "code",
   "execution_count": null,
   "metadata": {},
   "outputs": [],
   "source": []
  }
 ],
 "metadata": {
  "kernelspec": {
   "display_name": "Julia 1.8.1",
   "language": "julia",
   "name": "julia-1.8"
  },
  "language_info": {
   "file_extension": ".jl",
   "mimetype": "application/julia",
   "name": "julia",
   "version": "1.8.1"
  },
  "orig_nbformat": 4
 },
 "nbformat": 4,
 "nbformat_minor": 2
}
