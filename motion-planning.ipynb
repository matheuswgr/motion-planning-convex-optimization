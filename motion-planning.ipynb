{
 "cells": [
  {
   "cell_type": "markdown",
   "metadata": {},
   "source": [
    "#### Imports"
   ]
  },
  {
   "cell_type": "code",
   "execution_count": 14,
   "metadata": {},
   "outputs": [],
   "source": [
    "using Plots\n",
    "using Random"
   ]
  },
  {
   "cell_type": "markdown",
   "metadata": {},
   "source": [
    "# Motion Planning Using Convex Optimization"
   ]
  },
  {
   "cell_type": "markdown",
   "metadata": {},
   "source": [
    "## Model"
   ]
  },
  {
   "cell_type": "code",
   "execution_count": 12,
   "metadata": {},
   "outputs": [],
   "source": [
    "struct Point\n",
    "    x::Float64\n",
    "    y::Float64\n",
    "end"
   ]
  },
  {
   "cell_type": "code",
   "execution_count": 13,
   "metadata": {},
   "outputs": [],
   "source": [
    "struct Pose\n",
    "    position::Point\n",
    "    orientation::Float64\n",
    "end"
   ]
  },
  {
   "cell_type": "markdown",
   "metadata": {},
   "source": [
    "## Random Map Generation"
   ]
  },
  {
   "cell_type": "markdown",
   "metadata": {},
   "source": [
    "### Random Convex Polygon Generation"
   ]
  },
  {
   "cell_type": "code",
   "execution_count": 173,
   "metadata": {},
   "outputs": [
    {
     "data": {
      "text/plain": [
       "GenerateRandomConvexPolygon (generic function with 1 method)"
      ]
     },
     "metadata": {},
     "output_type": "display_data"
    }
   ],
   "source": [
    "function GenerateRandomConvexPolygon(numberOfVertices::Int64)\n",
    "    # Still remains a test for convexity and \n",
    "    #keep up with the computation until a convex poligon is found\n",
    "    \n",
    "    xCoordinateRandomPoints = []\n",
    "    yCoordinateRandomPoints = []\n",
    "\n",
    "    for i in 1:numberOfVertices\n",
    "        append!(xCoordinateRandomPoints, rand())\n",
    "        append!(yCoordinateRandomPoints, rand())\n",
    "    end\n",
    "\n",
    "    sort!(xCoordinateRandomPoints)\n",
    "    sort!(yCoordinateRandomPoints)\n",
    "\n",
    "    minimumX = xCoordinateRandomPoints[1]\n",
    "    maximumX = xCoordinateRandomPoints[numberOfVertices]\n",
    "    minimumY = yCoordinateRandomPoints[1]\n",
    "    maximumY = yCoordinateRandomPoints[numberOfVertices]\n",
    "\n",
    "\n",
    "    xVectors = []\n",
    "    yVectors = []\n",
    "\n",
    "    lastTop = minimumX\n",
    "    lastBot = minimumX;\n",
    "\n",
    "    for i in 2:numberOfVertices-1\n",
    "        x = xCoordinateRandomPoints[i];\n",
    "\n",
    "        if rand(Bool)\n",
    "            append!(xVectors, x - lastTop)\n",
    "            lastTop = x;\n",
    "        else \n",
    "            append!(xVectors, x - lastBot)\n",
    "            lastBot = x;\n",
    "        end\n",
    "    end\n",
    "\n",
    "    append!(xVectors, maximumX - lastTop)\n",
    "    append!(xVectors, lastBot - maximumX)\n",
    "\n",
    "    lastLeft = minimumY\n",
    "    lastRight = minimumY;\n",
    "\n",
    "    for i in 2:numberOfVertices-1\n",
    "        y = yCoordinateRandomPoints[i];\n",
    "\n",
    "        if rand(Bool)\n",
    "            append!(yVectors, y - lastLeft)\n",
    "            lastLeft = y;\n",
    "        else \n",
    "            append!(yVectors, lastRight - y)\n",
    "            lastRight = y;\n",
    "        end\n",
    "    end\n",
    "\n",
    "    append!(yVectors, maximumY - lastLeft)\n",
    "    append!(yVectors, lastRight - maximumY)\n",
    "\n",
    "    shuffle(yVectors);\n",
    "\n",
    "    points = []\n",
    "    angles = []\n",
    "\n",
    "    for i in 1:numberOfVertices\n",
    "        push!(points, Point(xVectors[i],yVectors[i]))\n",
    "        append!(angles, atan(yVectors[i],xVectors[i]))\n",
    "    end\n",
    "\n",
    "    order = sortperm(angles)\n",
    "    \n",
    "\n",
    "    points = points[order]\n",
    "\n",
    "    x = 0.0\n",
    "    y = 0.0\n",
    "    minPolygonX = 0;\n",
    "    minPolygonY = 0;\n",
    "    newPoints = []\n",
    "    for i in 1:numberOfVertices \n",
    "        push!(newPoints, Point(x,y))\n",
    "\n",
    "        x += points[i].x;\n",
    "        y += points[i].y;\n",
    "\n",
    "        minPolygonX = min(minPolygonX, x)\n",
    "        minPolygonY = min(minPolygonY, y)\n",
    "    end\n",
    "    \n",
    "\n",
    "    xShift = minimumX - minPolygonX;\n",
    "    yShift = minimumY - minPolygonY;\n",
    "\n",
    "    for i in 1:numberOfVertices \n",
    "        p = points[i]\n",
    "        points[i] = Point(p.x + xShift, p.y + yShift)\n",
    "    end\n",
    "    \n",
    "    return points;\n",
    "end\n"
   ]
  },
  {
   "cell_type": "code",
   "execution_count": 174,
   "metadata": {},
   "outputs": [
    {
     "data": {
      "image/png": "[encoded data removed]",
      "image/svg+xml": "<?xml version=\"1.0\" encoding=\"utf-8\"?>\n<svg xmlns=\"http://www.w3.org/2000/svg\" xmlns:xlink=\"http://www.w3.org/1999/xlink\" width=\"600\" height=\"400\" viewBox=\"0 0 2400 1600\">\n<defs>\n  <clipPath id=\"clip010\">\n    <rect x=\"0\" y=\"0\" width=\"2400\" height=\"1600\"/>\n  </clipPath>\n</defs>\n<path clip-path=\"url(#clip010)\" d=\"\nM0 1600 L2400 1600 L2400 0 L0 0  Z\n  \" fill=\"#ffffff\" fill-rule=\"evenodd\" fill-opacity=\"1\"/>\n<defs>\n  <clipPath id=\"clip011\">\n    <rect x=\"480\" y=\"0\" width=\"1681\" height=\"1600\"/>\n  </clipPath>\n</defs>\n<path clip-path=\"url(#clip010)\" d=\"\nM156.598 1486.45 L2352.76 1486.45 L2352.76 47.2441 L156.598 47.2441  Z\n  \" fill=\"#ffffff\" fill-rule=\"evenodd\" fill-opacity=\"1\"/>\n<defs>\n  <clipPath id=\"clip012\">\n    <rect x=\"156\" y=\"47\" width=\"2197\" height=\"1440\"/>\n  </clipPath>\n</defs>\n<polyline clip-path=\"url(#clip012)\" style=\"stroke:#000000; stroke-linecap:round; stroke-linejoin:round; stroke-width:2; stroke-opacity:0.1; fill:none\" points=\"\n  172.853,1486.45 172.853,47.2441 \n  \"/>\n<polyline clip-path=\"url(#clip012)\" style=\"stroke:#000000; stroke-linecap:round; stroke-linejoin:round; stroke-width:2; stroke-opacity:0.1; fill:none\" points=\"\n  853.963,1486.45 853.963,47.2441 \n  \"/>\n<polyline clip-path=\"url(#clip012)\" style=\"stroke:#000000; stroke-linecap:round; stroke-linejoin:round; stroke-width:2; stroke-opacity:0.1; fill:none\" points=\"\n  1535.07,1486.45 1535.07,47.2441 \n  \"/>\n<polyline clip-path=\"url(#clip012)\" style=\"stroke:#000000; stroke-linecap:round; stroke-linejoin:round; stroke-width:2; stroke-opacity:0.1; fill:none\" points=\"\n  2216.18,1486.45 2216.18,47.2441 \n  \"/>\n<polyline clip-path=\"url(#clip010)\" style=\"stroke:#000000; stroke-linecap:round; stroke-linejoin:round; stroke-width:4; stroke-opacity:1; fill:none\" points=\"\n  156.598,1486.45 2352.76,1486.45 \n  \"/>\n<polyline clip-path=\"url(#clip010)\" style=\"stroke:#000000; stroke-linecap:round; stroke-linejoin:round; stroke-width:4; stroke-opacity:1; fill:none\" points=\"\n  172.853,1486.45 172.853,1467.55 \n  \"/>\n<polyline clip-path=\"url(#clip010)\" style=\"stroke:#000000; stroke-linecap:round; stroke-linejoin:round; stroke-width:4; stroke-opacity:1; fill:none\" points=\"\n  853.963,1486.45 853.963,1467.55 \n  \"/>\n<polyline clip-path=\"url(#clip010)\" style=\"stroke:#000000; stroke-linecap:round; stroke-linejoin:round; stroke-width:4; stroke-opacity:1; fill:none\" points=\"\n  1535.07,1486.45 1535.07,1467.55 \n  \"/>\n<polyline clip-path=\"url(#clip010)\" style=\"stroke:#000000; stroke-linecap:round; stroke-linejoin:round; stroke-width:4; stroke-opacity:1; fill:none\" points=\"\n  2216.18,1486.45 2216.18,1467.55 \n  \"/>\n<path clip-path=\"url(#clip010)\" d=\"M150.237 1517.37 Q146.626 1517.37 144.797 1520.93 Q142.992 1524.47 142.992 1531.6 Q142.992 1538.71 144.797 1542.27 Q146.626 1545.82 150.237 1545.82 Q153.871 1545.82 155.677 1542.27 Q157.506 1538.71 157.506 1531.6 Q157.506 1524.47 155.677 1520.93 Q153.871 1517.37 150.237 1517.37 M150.237 1513.66 Q156.047 1513.66 159.103 1518.27 Q162.182 1522.85 162.182 1531.6 Q162.182 1540.33 159.103 1544.94 Q156.047 1549.52 150.237 1549.52 Q144.427 1549.52 141.348 1544.94 Q138.293 1540.33 138.293 1531.6 Q138.293 1522.85 141.348 1518.27 Q144.427 1513.66 150.237 1513.66 Z\" fill=\"#000000\" fill-rule=\"evenodd\" fill-opacity=\"1\" /><path clip-path=\"url(#clip010)\" d=\"M170.399 1542.97 L175.283 1542.97 L175.283 1548.85 L170.399 1548.85 L170.399 1542.97 Z\" fill=\"#000000\" fill-rule=\"evenodd\" fill-opacity=\"1\" /><path clip-path=\"url(#clip010)\" d=\"M195.468 1517.37 Q191.857 1517.37 190.029 1520.93 Q188.223 1524.47 188.223 1531.6 Q188.223 1538.71 190.029 1542.27 Q191.857 1545.82 195.468 1545.82 Q199.103 1545.82 200.908 1542.27 Q202.737 1538.71 202.737 1531.6 Q202.737 1524.47 200.908 1520.93 Q199.103 1517.37 195.468 1517.37 M195.468 1513.66 Q201.279 1513.66 204.334 1518.27 Q207.413 1522.85 207.413 1531.6 Q207.413 1540.33 204.334 1544.94 Q201.279 1549.52 195.468 1549.52 Q189.658 1549.52 186.58 1544.94 Q183.524 1540.33 183.524 1531.6 Q183.524 1522.85 186.58 1518.27 Q189.658 1513.66 195.468 1513.66 Z\" fill=\"#000000\" fill-rule=\"evenodd\" fill-opacity=\"1\" /><path clip-path=\"url(#clip010)\" d=\"M831.845 1517.37 Q828.234 1517.37 826.405 1520.93 Q824.6 1524.47 824.6 1531.6 Q824.6 1538.71 826.405 1542.27 Q828.234 1545.82 831.845 1545.82 Q835.479 1545.82 837.285 1542.27 Q839.114 1538.71 839.114 1531.6 Q839.114 1524.47 837.285 1520.93 Q835.479 1517.37 831.845 1517.37 M831.845 1513.66 Q837.655 1513.66 840.711 1518.27 Q843.789 1522.85 843.789 1531.6 Q843.789 1540.33 840.711 1544.94 Q837.655 1549.52 831.845 1549.52 Q826.035 1549.52 822.956 1544.94 Q819.901 1540.33 819.901 1531.6 Q819.901 1522.85 822.956 1518.27 Q826.035 1513.66 831.845 1513.66 Z\" fill=\"#000000\" fill-rule=\"evenodd\" fill-opacity=\"1\" /><path clip-path=\"url(#clip010)\" d=\"M852.007 1542.97 L856.891 1542.97 L856.891 1548.85 L852.007 1548.85 L852.007 1542.97 Z\" fill=\"#000000\" fill-rule=\"evenodd\" fill-opacity=\"1\" /><path clip-path=\"url(#clip010)\" d=\"M867.123 1514.29 L885.479 1514.29 L885.479 1518.22 L871.405 1518.22 L871.405 1526.7 Q872.424 1526.35 873.442 1526.19 Q874.461 1526 875.479 1526 Q881.266 1526 884.646 1529.17 Q888.025 1532.34 888.025 1537.76 Q888.025 1543.34 884.553 1546.44 Q881.081 1549.52 874.762 1549.52 Q872.586 1549.52 870.317 1549.15 Q868.072 1548.78 865.664 1548.04 L865.664 1543.34 Q867.748 1544.47 869.97 1545.03 Q872.192 1545.58 874.669 1545.58 Q878.674 1545.58 881.011 1543.48 Q883.349 1541.37 883.349 1537.76 Q883.349 1534.15 881.011 1532.04 Q878.674 1529.94 874.669 1529.94 Q872.794 1529.94 870.919 1530.35 Q869.067 1530.77 867.123 1531.65 L867.123 1514.29 Z\" fill=\"#000000\" fill-rule=\"evenodd\" fill-opacity=\"1\" /><path clip-path=\"url(#clip010)\" d=\"M1502.23 1544.91 L1509.87 1544.91 L1509.87 1518.55 L1501.55 1520.21 L1501.55 1515.95 L1509.82 1514.29 L1514.49 1514.29 L1514.49 1544.91 L1522.13 1544.91 L1522.13 1548.85 L1502.23 1548.85 L1502.23 1544.91 Z\" fill=\"#000000\" fill-rule=\"evenodd\" fill-opacity=\"1\" /><path clip-path=\"url(#clip010)\" d=\"M1531.58 1542.97 L1536.46 1542.97 L1536.46 1548.85 L1531.58 1548.85 L1531.58 1542.97 Z\" fill=\"#000000\" fill-rule=\"evenodd\" fill-opacity=\"1\" /><path clip-path=\"url(#clip010)\" d=\"M1556.65 1517.37 Q1553.04 1517.37 1551.21 1520.93 Q1549.4 1524.47 1549.4 1531.6 Q1549.4 1538.71 1551.21 1542.27 Q1553.04 1545.82 1556.65 1545.82 Q1560.28 1545.82 1562.09 1542.27 Q1563.92 1538.71 1563.92 1531.6 Q1563.92 1524.47 1562.09 1520.93 Q1560.28 1517.37 1556.65 1517.37 M1556.65 1513.66 Q1562.46 1513.66 1565.51 1518.27 Q1568.59 1522.85 1568.59 1531.6 Q1568.59 1540.33 1565.51 1544.94 Q1562.46 1549.52 1556.65 1549.52 Q1550.84 1549.52 1547.76 1544.94 Q1544.7 1540.33 1544.7 1531.6 Q1544.7 1522.85 1547.76 1518.27 Q1550.84 1513.66 1556.65 1513.66 Z\" fill=\"#000000\" fill-rule=\"evenodd\" fill-opacity=\"1\" /><path clip-path=\"url(#clip010)\" d=\"M2183.83 1544.91 L2191.47 1544.91 L2191.47 1518.55 L2183.16 1520.21 L2183.16 1515.95 L2191.43 1514.29 L2196.1 1514.29 L2196.1 1544.91 L2203.74 1544.91 L2203.74 1548.85 L2183.83 1548.85 L2183.83 1544.91 Z\" fill=\"#000000\" fill-rule=\"evenodd\" fill-opacity=\"1\" /><path clip-path=\"url(#clip010)\" d=\"M2213.19 1542.97 L2218.07 1542.97 L2218.07 1548.85 L2213.19 1548.85 L2213.19 1542.97 Z\" fill=\"#000000\" fill-rule=\"evenodd\" fill-opacity=\"1\" /><path clip-path=\"url(#clip010)\" d=\"M2228.3 1514.29 L2246.66 1514.29 L2246.66 1518.22 L2232.58 1518.22 L2232.58 1526.7 Q2233.6 1526.35 2234.62 1526.19 Q2235.64 1526 2236.66 1526 Q2242.44 1526 2245.82 1529.17 Q2249.2 1532.34 2249.2 1537.76 Q2249.2 1543.34 2245.73 1546.44 Q2242.26 1549.52 2235.94 1549.52 Q2233.76 1549.52 2231.5 1549.15 Q2229.25 1548.78 2226.84 1548.04 L2226.84 1543.34 Q2228.93 1544.47 2231.15 1545.03 Q2233.37 1545.58 2235.85 1545.58 Q2239.85 1545.58 2242.19 1543.48 Q2244.53 1541.37 2244.53 1537.76 Q2244.53 1534.15 2242.19 1532.04 Q2239.85 1529.94 2235.85 1529.94 Q2233.97 1529.94 2232.1 1530.35 Q2230.25 1530.77 2228.3 1531.65 L2228.3 1514.29 Z\" fill=\"#000000\" fill-rule=\"evenodd\" fill-opacity=\"1\" /><polyline clip-path=\"url(#clip012)\" style=\"stroke:#000000; stroke-linecap:round; stroke-linejoin:round; stroke-width:2; stroke-opacity:0.1; fill:none\" points=\"\n  156.598,1336.89 2352.76,1336.89 \n  \"/>\n<polyline clip-path=\"url(#clip012)\" style=\"stroke:#000000; stroke-linecap:round; stroke-linejoin:round; stroke-width:2; stroke-opacity:0.1; fill:none\" points=\"\n  156.598,1139.02 2352.76,1139.02 \n  \"/>\n<polyline clip-path=\"url(#clip012)\" style=\"stroke:#000000; stroke-linecap:round; stroke-linejoin:round; stroke-width:2; stroke-opacity:0.1; fill:none\" points=\"\n  156.598,941.157 2352.76,941.157 \n  \"/>\n<polyline clip-path=\"url(#clip012)\" style=\"stroke:#000000; stroke-linecap:round; stroke-linejoin:round; stroke-width:2; stroke-opacity:0.1; fill:none\" points=\"\n  156.598,743.292 2352.76,743.292 \n  \"/>\n<polyline clip-path=\"url(#clip012)\" style=\"stroke:#000000; stroke-linecap:round; stroke-linejoin:round; stroke-width:2; stroke-opacity:0.1; fill:none\" points=\"\n  156.598,545.427 2352.76,545.427 \n  \"/>\n<polyline clip-path=\"url(#clip012)\" style=\"stroke:#000000; stroke-linecap:round; stroke-linejoin:round; stroke-width:2; stroke-opacity:0.1; fill:none\" points=\"\n  156.598,347.562 2352.76,347.562 \n  \"/>\n<polyline clip-path=\"url(#clip012)\" style=\"stroke:#000000; stroke-linecap:round; stroke-linejoin:round; stroke-width:2; stroke-opacity:0.1; fill:none\" points=\"\n  156.598,149.697 2352.76,149.697 \n  \"/>\n<polyline clip-path=\"url(#clip010)\" style=\"stroke:#000000; stroke-linecap:round; stroke-linejoin:round; stroke-width:4; stroke-opacity:1; fill:none\" points=\"\n  156.598,1486.45 156.598,47.2441 \n  \"/>\n<polyline clip-path=\"url(#clip010)\" style=\"stroke:#000000; stroke-linecap:round; stroke-linejoin:round; stroke-width:4; stroke-opacity:1; fill:none\" points=\"\n  156.598,1336.89 175.496,1336.89 \n  \"/>\n<polyline clip-path=\"url(#clip010)\" style=\"stroke:#000000; stroke-linecap:round; stroke-linejoin:round; stroke-width:4; stroke-opacity:1; fill:none\" points=\"\n  156.598,1139.02 175.496,1139.02 \n  \"/>\n<polyline clip-path=\"url(#clip010)\" style=\"stroke:#000000; stroke-linecap:round; stroke-linejoin:round; stroke-width:4; stroke-opacity:1; fill:none\" points=\"\n  156.598,941.157 175.496,941.157 \n  \"/>\n<polyline clip-path=\"url(#clip010)\" style=\"stroke:#000000; stroke-linecap:round; stroke-linejoin:round; stroke-width:4; stroke-opacity:1; fill:none\" points=\"\n  156.598,743.292 175.496,743.292 \n  \"/>\n<polyline clip-path=\"url(#clip010)\" style=\"stroke:#000000; stroke-linecap:round; stroke-linejoin:round; stroke-width:4; stroke-opacity:1; fill:none\" points=\"\n  156.598,545.427 175.496,545.427 \n  \"/>\n<polyline clip-path=\"url(#clip010)\" style=\"stroke:#000000; stroke-linecap:round; stroke-linejoin:round; stroke-width:4; stroke-opacity:1; fill:none\" points=\"\n  156.598,347.562 175.496,347.562 \n  \"/>\n<polyline clip-path=\"url(#clip010)\" style=\"stroke:#000000; stroke-linecap:round; stroke-linejoin:round; stroke-width:4; stroke-opacity:1; fill:none\" points=\"\n  156.598,149.697 175.496,149.697 \n  \"/>\n<path clip-path=\"url(#clip010)\" d=\"M64.0708 1322.69 Q60.4597 1322.69 58.631 1326.25 Q56.8254 1329.79 56.8254 1336.92 Q56.8254 1344.03 58.631 1347.59 Q60.4597 1351.13 64.0708 1351.13 Q67.705 1351.13 69.5105 1347.59 Q71.3392 1344.03 71.3392 1336.92 Q71.3392 1329.79 69.5105 1326.25 Q67.705 1322.69 64.0708 1322.69 M64.0708 1318.98 Q69.8809 1318.98 72.9365 1323.59 Q76.0151 1328.17 76.0151 1336.92 Q76.0151 1345.65 72.9365 1350.25 Q69.8809 1354.84 64.0708 1354.84 Q58.2606 1354.84 55.1819 1350.25 Q52.1264 1345.65 52.1264 1336.92 Q52.1264 1328.17 55.1819 1323.59 Q58.2606 1318.98 64.0708 1318.98 Z\" fill=\"#000000\" fill-rule=\"evenodd\" fill-opacity=\"1\" /><path clip-path=\"url(#clip010)\" d=\"M84.2327 1348.29 L89.1169 1348.29 L89.1169 1354.17 L84.2327 1354.17 L84.2327 1348.29 Z\" fill=\"#000000\" fill-rule=\"evenodd\" fill-opacity=\"1\" /><path clip-path=\"url(#clip010)\" d=\"M113.469 1335.53 Q116.825 1336.25 118.7 1338.52 Q120.598 1340.79 120.598 1344.12 Q120.598 1349.24 117.08 1352.04 Q113.561 1354.84 107.08 1354.84 Q104.904 1354.84 102.589 1354.4 Q100.297 1353.98 97.8437 1353.12 L97.8437 1348.61 Q99.7882 1349.75 102.103 1350.32 Q104.418 1350.9 106.941 1350.9 Q111.339 1350.9 113.631 1349.17 Q115.945 1347.43 115.945 1344.12 Q115.945 1341.06 113.793 1339.35 Q111.663 1337.62 107.844 1337.62 L103.816 1337.62 L103.816 1333.77 L108.029 1333.77 Q111.478 1333.77 113.307 1332.41 Q115.135 1331.02 115.135 1328.43 Q115.135 1325.76 113.237 1324.35 Q111.362 1322.92 107.844 1322.92 Q105.922 1322.92 103.723 1323.33 Q101.524 1323.75 98.8854 1324.63 L98.8854 1320.46 Q101.547 1319.72 103.862 1319.35 Q106.2 1318.98 108.26 1318.98 Q113.584 1318.98 116.686 1321.41 Q119.788 1323.82 119.788 1327.94 Q119.788 1330.81 118.145 1332.8 Q116.501 1334.77 113.469 1335.53 Z\" fill=\"#000000\" fill-rule=\"evenodd\" fill-opacity=\"1\" /><path clip-path=\"url(#clip010)\" d=\"M62.9365 1124.82 Q59.3254 1124.82 57.4967 1128.39 Q55.6912 1131.93 55.6912 1139.06 Q55.6912 1146.16 57.4967 1149.73 Q59.3254 1153.27 62.9365 1153.27 Q66.5707 1153.27 68.3763 1149.73 Q70.205 1146.16 70.205 1139.06 Q70.205 1131.93 68.3763 1128.39 Q66.5707 1124.82 62.9365 1124.82 M62.9365 1121.12 Q68.7467 1121.12 71.8022 1125.72 Q74.8809 1130.31 74.8809 1139.06 Q74.8809 1147.78 71.8022 1152.39 Q68.7467 1156.97 62.9365 1156.97 Q57.1264 1156.97 54.0477 1152.39 Q50.9921 1147.78 50.9921 1139.06 Q50.9921 1130.31 54.0477 1125.72 Q57.1264 1121.12 62.9365 1121.12 Z\" fill=\"#000000\" fill-rule=\"evenodd\" fill-opacity=\"1\" /><path clip-path=\"url(#clip010)\" d=\"M83.0984 1150.42 L87.9827 1150.42 L87.9827 1156.3 L83.0984 1156.3 L83.0984 1150.42 Z\" fill=\"#000000\" fill-rule=\"evenodd\" fill-opacity=\"1\" /><path clip-path=\"url(#clip010)\" d=\"M111.015 1125.82 L99.2095 1144.26 L111.015 1144.26 L111.015 1125.82 M109.788 1121.74 L115.668 1121.74 L115.668 1144.26 L120.598 1144.26 L120.598 1148.15 L115.668 1148.15 L115.668 1156.3 L111.015 1156.3 L111.015 1148.15 L95.4132 1148.15 L95.4132 1143.64 L109.788 1121.74 Z\" fill=\"#000000\" fill-rule=\"evenodd\" fill-opacity=\"1\" /><path clip-path=\"url(#clip010)\" d=\"M64.418 926.956 Q60.8069 926.956 58.9782 930.52 Q57.1726 934.062 57.1726 941.192 Q57.1726 948.298 58.9782 951.863 Q60.8069 955.404 64.418 955.404 Q68.0522 955.404 69.8578 951.863 Q71.6865 948.298 71.6865 941.192 Q71.6865 934.062 69.8578 930.52 Q68.0522 926.956 64.418 926.956 M64.418 923.252 Q70.2281 923.252 73.2837 927.858 Q76.3624 932.442 76.3624 941.192 Q76.3624 949.918 73.2837 954.525 Q70.2281 959.108 64.418 959.108 Q58.6078 959.108 55.5291 954.525 Q52.4736 949.918 52.4736 941.192 Q52.4736 932.442 55.5291 927.858 Q58.6078 923.252 64.418 923.252 Z\" fill=\"#000000\" fill-rule=\"evenodd\" fill-opacity=\"1\" /><path clip-path=\"url(#clip010)\" d=\"M84.5799 952.557 L89.4641 952.557 L89.4641 958.437 L84.5799 958.437 L84.5799 952.557 Z\" fill=\"#000000\" fill-rule=\"evenodd\" fill-opacity=\"1\" /><path clip-path=\"url(#clip010)\" d=\"M99.6956 923.877 L118.052 923.877 L118.052 927.812 L103.978 927.812 L103.978 936.284 Q104.996 935.937 106.015 935.775 Q107.033 935.59 108.052 935.59 Q113.839 935.59 117.219 938.761 Q120.598 941.932 120.598 947.349 Q120.598 952.928 117.126 956.029 Q113.654 959.108 107.334 959.108 Q105.159 959.108 102.89 958.738 Q100.645 958.367 98.2372 957.627 L98.2372 952.928 Q100.321 954.062 102.543 954.617 Q104.765 955.173 107.242 955.173 Q111.246 955.173 113.584 953.066 Q115.922 950.96 115.922 947.349 Q115.922 943.738 113.584 941.631 Q111.246 939.525 107.242 939.525 Q105.367 939.525 103.492 939.942 Q101.64 940.358 99.6956 941.238 L99.6956 923.877 Z\" fill=\"#000000\" fill-rule=\"evenodd\" fill-opacity=\"1\" /><path clip-path=\"url(#clip010)\" d=\"M63.2606 729.091 Q59.6495 729.091 57.8208 732.655 Q56.0152 736.197 56.0152 743.327 Q56.0152 750.433 57.8208 753.998 Q59.6495 757.54 63.2606 757.54 Q66.8948 757.54 68.7004 753.998 Q70.5291 750.433 70.5291 743.327 Q70.5291 736.197 68.7004 732.655 Q66.8948 729.091 63.2606 729.091 M63.2606 725.387 Q69.0707 725.387 72.1263 729.993 Q75.205 734.577 75.205 743.327 Q75.205 752.053 72.1263 756.66 Q69.0707 761.243 63.2606 761.243 Q57.4504 761.243 54.3717 756.66 Q51.3162 752.053 51.3162 743.327 Q51.3162 734.577 54.3717 729.993 Q57.4504 725.387 63.2606 725.387 Z\" fill=\"#000000\" fill-rule=\"evenodd\" fill-opacity=\"1\" /><path clip-path=\"url(#clip010)\" d=\"M83.4225 754.692 L88.3067 754.692 L88.3067 760.572 L83.4225 760.572 L83.4225 754.692 Z\" fill=\"#000000\" fill-rule=\"evenodd\" fill-opacity=\"1\" /><path clip-path=\"url(#clip010)\" d=\"M109.071 741.429 Q105.922 741.429 104.071 743.581 Q102.242 745.734 102.242 749.484 Q102.242 753.211 104.071 755.387 Q105.922 757.54 109.071 757.54 Q112.219 757.54 114.047 755.387 Q115.899 753.211 115.899 749.484 Q115.899 745.734 114.047 743.581 Q112.219 741.429 109.071 741.429 M118.353 726.776 L118.353 731.035 Q116.594 730.202 114.788 729.762 Q113.006 729.322 111.246 729.322 Q106.617 729.322 104.163 732.447 Q101.733 735.572 101.385 741.891 Q102.751 739.878 104.811 738.813 Q106.871 737.725 109.348 737.725 Q114.557 737.725 117.566 740.896 Q120.598 744.044 120.598 749.484 Q120.598 754.808 117.45 758.026 Q114.302 761.243 109.071 761.243 Q103.075 761.243 99.9039 756.66 Q96.7326 752.053 96.7326 743.327 Q96.7326 735.132 100.621 730.271 Q104.51 725.387 111.061 725.387 Q112.82 725.387 114.603 725.734 Q116.408 726.081 118.353 726.776 Z\" fill=\"#000000\" fill-rule=\"evenodd\" fill-opacity=\"1\" /><path clip-path=\"url(#clip010)\" d=\"M64.3254 531.226 Q60.7143 531.226 58.8856 534.791 Q57.0801 538.332 57.0801 545.462 Q57.0801 552.568 58.8856 556.133 Q60.7143 559.675 64.3254 559.675 Q67.9596 559.675 69.7652 556.133 Q71.5939 552.568 71.5939 545.462 Q71.5939 538.332 69.7652 534.791 Q67.9596 531.226 64.3254 531.226 M64.3254 527.522 Q70.1355 527.522 73.1911 532.129 Q76.2698 536.712 76.2698 545.462 Q76.2698 554.189 73.1911 558.795 Q70.1355 563.378 64.3254 563.378 Q58.5152 563.378 55.4365 558.795 Q52.381 554.189 52.381 545.462 Q52.381 536.712 55.4365 532.129 Q58.5152 527.522 64.3254 527.522 Z\" fill=\"#000000\" fill-rule=\"evenodd\" fill-opacity=\"1\" /><path clip-path=\"url(#clip010)\" d=\"M84.4873 556.827 L89.3715 556.827 L89.3715 562.707 L84.4873 562.707 L84.4873 556.827 Z\" fill=\"#000000\" fill-rule=\"evenodd\" fill-opacity=\"1\" /><path clip-path=\"url(#clip010)\" d=\"M98.3761 528.147 L120.598 528.147 L120.598 530.138 L108.052 562.707 L103.168 562.707 L114.973 532.082 L98.3761 532.082 L98.3761 528.147 Z\" fill=\"#000000\" fill-rule=\"evenodd\" fill-opacity=\"1\" /><path clip-path=\"url(#clip010)\" d=\"M63.5152 333.361 Q59.9041 333.361 58.0754 336.926 Q56.2699 340.467 56.2699 347.597 Q56.2699 354.703 58.0754 358.268 Q59.9041 361.81 63.5152 361.81 Q67.1494 361.81 68.955 358.268 Q70.7837 354.703 70.7837 347.597 Q70.7837 340.467 68.955 336.926 Q67.1494 333.361 63.5152 333.361 M63.5152 329.657 Q69.3254 329.657 72.3809 334.264 Q75.4596 338.847 75.4596 347.597 Q75.4596 356.324 72.3809 360.93 Q69.3254 365.513 63.5152 365.513 Q57.7051 365.513 54.6264 360.93 Q51.5708 356.324 51.5708 347.597 Q51.5708 338.847 54.6264 334.264 Q57.7051 329.657 63.5152 329.657 Z\" fill=\"#000000\" fill-rule=\"evenodd\" fill-opacity=\"1\" /><path clip-path=\"url(#clip010)\" d=\"M83.6771 358.963 L88.5614 358.963 L88.5614 364.842 L83.6771 364.842 L83.6771 358.963 Z\" fill=\"#000000\" fill-rule=\"evenodd\" fill-opacity=\"1\" /><path clip-path=\"url(#clip010)\" d=\"M108.746 348.43 Q105.413 348.43 103.492 350.213 Q101.594 351.995 101.594 355.12 Q101.594 358.245 103.492 360.027 Q105.413 361.81 108.746 361.81 Q112.08 361.81 114.001 360.027 Q115.922 358.222 115.922 355.12 Q115.922 351.995 114.001 350.213 Q112.103 348.43 108.746 348.43 M104.071 346.439 Q101.061 345.699 99.3715 343.639 Q97.7048 341.578 97.7048 338.615 Q97.7048 334.472 100.645 332.065 Q103.608 329.657 108.746 329.657 Q113.908 329.657 116.848 332.065 Q119.788 334.472 119.788 338.615 Q119.788 341.578 118.098 343.639 Q116.432 345.699 113.445 346.439 Q116.825 347.227 118.7 349.518 Q120.598 351.81 120.598 355.12 Q120.598 360.143 117.52 362.828 Q114.464 365.513 108.746 365.513 Q103.029 365.513 99.9502 362.828 Q96.8947 360.143 96.8947 355.12 Q96.8947 351.81 98.7928 349.518 Q100.691 347.227 104.071 346.439 M102.358 339.055 Q102.358 341.74 104.024 343.245 Q105.714 344.75 108.746 344.75 Q111.756 344.75 113.445 343.245 Q115.158 341.74 115.158 339.055 Q115.158 336.37 113.445 334.865 Q111.756 333.361 108.746 333.361 Q105.714 333.361 104.024 334.865 Q102.358 336.37 102.358 339.055 Z\" fill=\"#000000\" fill-rule=\"evenodd\" fill-opacity=\"1\" /><path clip-path=\"url(#clip010)\" d=\"M63.6078 135.496 Q59.9967 135.496 58.168 139.061 Q56.3625 142.602 56.3625 149.732 Q56.3625 156.838 58.168 160.403 Q59.9967 163.945 63.6078 163.945 Q67.242 163.945 69.0476 160.403 Q70.8763 156.838 70.8763 149.732 Q70.8763 142.602 69.0476 139.061 Q67.242 135.496 63.6078 135.496 M63.6078 131.792 Q69.418 131.792 72.4735 136.399 Q75.5522 140.982 75.5522 149.732 Q75.5522 158.459 72.4735 163.065 Q69.418 167.649 63.6078 167.649 Q57.7976 167.649 54.719 163.065 Q51.6634 158.459 51.6634 149.732 Q51.6634 140.982 54.719 136.399 Q57.7976 131.792 63.6078 131.792 Z\" fill=\"#000000\" fill-rule=\"evenodd\" fill-opacity=\"1\" /><path clip-path=\"url(#clip010)\" d=\"M83.7697 161.098 L88.654 161.098 L88.654 166.977 L83.7697 166.977 L83.7697 161.098 Z\" fill=\"#000000\" fill-rule=\"evenodd\" fill-opacity=\"1\" /><path clip-path=\"url(#clip010)\" d=\"M98.978 166.26 L98.978 162 Q100.737 162.834 102.543 163.274 Q104.348 163.713 106.084 163.713 Q110.714 163.713 113.145 160.612 Q115.598 157.487 115.945 151.144 Q114.603 153.135 112.543 154.2 Q110.483 155.264 107.983 155.264 Q102.797 155.264 99.765 152.139 Q96.7558 148.991 96.7558 143.551 Q96.7558 138.227 99.9039 135.01 Q103.052 131.792 108.283 131.792 Q114.279 131.792 117.427 136.399 Q120.598 140.982 120.598 149.732 Q120.598 157.903 116.709 162.787 Q112.844 167.649 106.293 167.649 Q104.534 167.649 102.728 167.301 Q100.922 166.954 98.978 166.26 M108.283 151.607 Q111.432 151.607 113.26 149.454 Q115.112 147.301 115.112 143.551 Q115.112 139.825 113.26 137.672 Q111.432 135.496 108.283 135.496 Q105.135 135.496 103.284 137.672 Q101.455 139.825 101.455 143.551 Q101.455 147.301 103.284 149.454 Q105.135 151.607 108.283 151.607 Z\" fill=\"#000000\" fill-rule=\"evenodd\" fill-opacity=\"1\" /><polyline clip-path=\"url(#clip012)\" style=\"stroke:#009af9; stroke-linecap:round; stroke-linejoin:round; stroke-width:4; stroke-opacity:1; fill:none\" points=\"\n  218.754,1445.72 2290.6,416.504 1543.63,87.9763 1408.46,96.0048 218.754,1445.72 \n  \"/>\n<path clip-path=\"url(#clip010)\" d=\"\nM1983.1 198.898 L2279.55 198.898 L2279.55 95.2176 L1983.1 95.2176  Z\n  \" fill=\"#ffffff\" fill-rule=\"evenodd\" fill-opacity=\"1\"/>\n<polyline clip-path=\"url(#clip010)\" style=\"stroke:#000000; stroke-linecap:round; stroke-linejoin:round; stroke-width:4; stroke-opacity:1; fill:none\" points=\"\n  1983.1,198.898 2279.55,198.898 2279.55,95.2176 1983.1,95.2176 1983.1,198.898 \n  \"/>\n<polyline clip-path=\"url(#clip010)\" style=\"stroke:#009af9; stroke-linecap:round; stroke-linejoin:round; stroke-width:4; stroke-opacity:1; fill:none\" points=\"\n  2007.5,147.058 2153.92,147.058 \n  \"/>\n<path clip-path=\"url(#clip010)\" d=\"M2192.16 166.745 Q2190.35 171.375 2188.64 172.787 Q2186.93 174.199 2184.06 174.199 L2180.65 174.199 L2180.65 170.634 L2183.15 170.634 Q2184.91 170.634 2185.89 169.8 Q2186.86 168.967 2188.04 165.865 L2188.8 163.921 L2178.32 138.412 L2182.83 138.412 L2190.93 158.689 L2199.03 138.412 L2203.55 138.412 L2192.16 166.745 Z\" fill=\"#000000\" fill-rule=\"evenodd\" fill-opacity=\"1\" /><path clip-path=\"url(#clip010)\" d=\"M2210.84 160.402 L2218.48 160.402 L2218.48 134.037 L2210.17 135.703 L2210.17 131.444 L2218.43 129.778 L2223.11 129.778 L2223.11 160.402 L2230.75 160.402 L2230.75 164.338 L2210.84 164.338 L2210.84 160.402 Z\" fill=\"#000000\" fill-rule=\"evenodd\" fill-opacity=\"1\" /></svg>\n",
      "text/html": [
       "<?xml version=\"1.0\" encoding=\"utf-8\"?>\n",
       "<svg xmlns=\"http://www.w3.org/2000/svg\" xmlns:xlink=\"http://www.w3.org/1999/xlink\" width=\"600\" height=\"400\" viewBox=\"0 0 2400 1600\">\n",
       "<defs>\n",
       "  <clipPath id=\"clip060\">\n",
       "    <rect x=\"0\" y=\"0\" width=\"2400\" height=\"1600\"/>\n",
       "  </clipPath>\n",
       "</defs>\n",
       "<path clip-path=\"url(#clip060)\" d=\"\n",
       "M0 1600 L2400 1600 L2400 0 L0 0  Z\n",
       "  \" fill=\"#ffffff\" fill-rule=\"evenodd\" fill-opacity=\"1\"/>\n",
       "<defs>\n",
       "  <clipPath id=\"clip061\">\n",
       "    <rect x=\"480\" y=\"0\" width=\"1681\" height=\"1600\"/>\n",
       "  </clipPath>\n",
       "</defs>\n",
       "<path clip-path=\"url(#clip060)\" d=\"\n",
       "M156.598 1486.45 L2352.76 1486.45 L2352.76 47.2441 L156.598 47.2441  Z\n",
       "  \" fill=\"#ffffff\" fill-rule=\"evenodd\" fill-opacity=\"1\"/>\n",
       "<defs>\n",
       "  <clipPath id=\"clip062\">\n",
       "    <rect x=\"156\" y=\"47\" width=\"2197\" height=\"1440\"/>\n",
       "  </clipPath>\n",
       "</defs>\n",
       "<polyline clip-path=\"url(#clip062)\" style=\"stroke:#000000; stroke-linecap:round; stroke-linejoin:round; stroke-width:2; stroke-opacity:0.1; fill:none\" points=\"\n",
       "  172.853,1486.45 172.853,47.2441 \n",
       "  \"/>\n",
       "<polyline clip-path=\"url(#clip062)\" style=\"stroke:#000000; stroke-linecap:round; stroke-linejoin:round; stroke-width:2; stroke-opacity:0.1; fill:none\" points=\"\n",
       "  853.963,1486.45 853.963,47.2441 \n",
       "  \"/>\n",
       "<polyline clip-path=\"url(#clip062)\" style=\"stroke:#000000; stroke-linecap:round; stroke-linejoin:round; stroke-width:2; stroke-opacity:0.1; fill:none\" points=\"\n",
       "  1535.07,1486.45 1535.07,47.2441 \n",
       "  \"/>\n",
       "<polyline clip-path=\"url(#clip062)\" style=\"stroke:#000000; stroke-linecap:round; stroke-linejoin:round; stroke-width:2; stroke-opacity:0.1; fill:none\" points=\"\n",
       "  2216.18,1486.45 2216.18,47.2441 \n",
       "  \"/>\n",
       "<polyline clip-path=\"url(#clip060)\" style=\"stroke:#000000; stroke-linecap:round; stroke-linejoin:round; stroke-width:4; stroke-opacity:1; fill:none\" points=\"\n",
       "  156.598,1486.45 2352.76,1486.45 \n",
       "  \"/>\n",
       "<polyline clip-path=\"url(#clip060)\" style=\"stroke:#000000; stroke-linecap:round; stroke-linejoin:round; stroke-width:4; stroke-opacity:1; fill:none\" points=\"\n",
       "  172.853,1486.45 172.853,1467.55 \n",
       "  \"/>\n",
       "<polyline clip-path=\"url(#clip060)\" style=\"stroke:#000000; stroke-linecap:round; stroke-linejoin:round; stroke-width:4; stroke-opacity:1; fill:none\" points=\"\n",
       "  853.963,1486.45 853.963,1467.55 \n",
       "  \"/>\n",
       "<polyline clip-path=\"url(#clip060)\" style=\"stroke:#000000; stroke-linecap:round; stroke-linejoin:round; stroke-width:4; stroke-opacity:1; fill:none\" points=\"\n",
       "  1535.07,1486.45 1535.07,1467.55 \n",
       "  \"/>\n",
       "<polyline clip-path=\"url(#clip060)\" style=\"stroke:#000000; stroke-linecap:round; stroke-linejoin:round; stroke-width:4; stroke-opacity:1; fill:none\" points=\"\n",
       "  2216.18,1486.45 2216.18,1467.55 \n",
       "  \"/>\n",
       "<path clip-path=\"url(#clip060)\" d=\"M150.237 1517.37 Q146.626 1517.37 144.797 1520.93 Q142.992 1524.47 142.992 1531.6 Q142.992 1538.71 144.797 1542.27 Q146.626 1545.82 150.237 1545.82 Q153.871 1545.82 155.677 1542.27 Q157.506 1538.71 157.506 1531.6 Q157.506 1524.47 155.677 1520.93 Q153.871 1517.37 150.237 1517.37 M150.237 1513.66 Q156.047 1513.66 159.103 1518.27 Q162.182 1522.85 162.182 1531.6 Q162.182 1540.33 159.103 1544.94 Q156.047 1549.52 150.237 1549.52 Q144.427 1549.52 141.348 1544.94 Q138.293 1540.33 138.293 1531.6 Q138.293 1522.85 141.348 1518.27 Q144.427 1513.66 150.237 1513.66 Z\" fill=\"#000000\" fill-rule=\"evenodd\" fill-opacity=\"1\" /><path clip-path=\"url(#clip060)\" d=\"M170.399 1542.97 L175.283 1542.97 L175.283 1548.85 L170.399 1548.85 L170.399 1542.97 Z\" fill=\"#000000\" fill-rule=\"evenodd\" fill-opacity=\"1\" /><path clip-path=\"url(#clip060)\" d=\"M195.468 1517.37 Q191.857 1517.37 190.029 1520.93 Q188.223 1524.47 188.223 1531.6 Q188.223 1538.71 190.029 1542.27 Q191.857 1545.82 195.468 1545.82 Q199.103 1545.82 200.908 1542.27 Q202.737 1538.71 202.737 1531.6 Q202.737 1524.47 200.908 1520.93 Q199.103 1517.37 195.468 1517.37 M195.468 1513.66 Q201.279 1513.66 204.334 1518.27 Q207.413 1522.85 207.413 1531.6 Q207.413 1540.33 204.334 1544.94 Q201.279 1549.52 195.468 1549.52 Q189.658 1549.52 186.58 1544.94 Q183.524 1540.33 183.524 1531.6 Q183.524 1522.85 186.58 1518.27 Q189.658 1513.66 195.468 1513.66 Z\" fill=\"#000000\" fill-rule=\"evenodd\" fill-opacity=\"1\" /><path clip-path=\"url(#clip060)\" d=\"M831.845 1517.37 Q828.234 1517.37 826.405 1520.93 Q824.6 1524.47 824.6 1531.6 Q824.6 1538.71 826.405 1542.27 Q828.234 1545.82 831.845 1545.82 Q835.479 1545.82 837.285 1542.27 Q839.114 1538.71 839.114 1531.6 Q839.114 1524.47 837.285 1520.93 Q835.479 1517.37 831.845 1517.37 M831.845 1513.66 Q837.655 1513.66 840.711 1518.27 Q843.789 1522.85 843.789 1531.6 Q843.789 1540.33 840.711 1544.94 Q837.655 1549.52 831.845 1549.52 Q826.035 1549.52 822.956 1544.94 Q819.901 1540.33 819.901 1531.6 Q819.901 1522.85 822.956 1518.27 Q826.035 1513.66 831.845 1513.66 Z\" fill=\"#000000\" fill-rule=\"evenodd\" fill-opacity=\"1\" /><path clip-path=\"url(#clip060)\" d=\"M852.007 1542.97 L856.891 1542.97 L856.891 1548.85 L852.007 1548.85 L852.007 1542.97 Z\" fill=\"#000000\" fill-rule=\"evenodd\" fill-opacity=\"1\" /><path clip-path=\"url(#clip060)\" d=\"M867.123 1514.29 L885.479 1514.29 L885.479 1518.22 L871.405 1518.22 L871.405 1526.7 Q872.424 1526.35 873.442 1526.19 Q874.461 1526 875.479 1526 Q881.266 1526 884.646 1529.17 Q888.025 1532.34 888.025 1537.76 Q888.025 1543.34 884.553 1546.44 Q881.081 1549.52 874.762 1549.52 Q872.586 1549.52 870.317 1549.15 Q868.072 1548.78 865.664 1548.04 L865.664 1543.34 Q867.748 1544.47 869.97 1545.03 Q872.192 1545.58 874.669 1545.58 Q878.674 1545.58 881.011 1543.48 Q883.349 1541.37 883.349 1537.76 Q883.349 1534.15 881.011 1532.04 Q878.674 1529.94 874.669 1529.94 Q872.794 1529.94 870.919 1530.35 Q869.067 1530.77 867.123 1531.65 L867.123 1514.29 Z\" fill=\"#000000\" fill-rule=\"evenodd\" fill-opacity=\"1\" /><path clip-path=\"url(#clip060)\" d=\"M1502.23 1544.91 L1509.87 1544.91 L1509.87 1518.55 L1501.55 1520.21 L1501.55 1515.95 L1509.82 1514.29 L1514.49 1514.29 L1514.49 1544.91 L1522.13 1544.91 L1522.13 1548.85 L1502.23 1548.85 L1502.23 1544.91 Z\" fill=\"#000000\" fill-rule=\"evenodd\" fill-opacity=\"1\" /><path clip-path=\"url(#clip060)\" d=\"M1531.58 1542.97 L1536.46 1542.97 L1536.46 1548.85 L1531.58 1548.85 L1531.58 1542.97 Z\" fill=\"#000000\" fill-rule=\"evenodd\" fill-opacity=\"1\" /><path clip-path=\"url(#clip060)\" d=\"M1556.65 1517.37 Q1553.04 1517.37 1551.21 1520.93 Q1549.4 1524.47 1549.4 1531.6 Q1549.4 1538.71 1551.21 1542.27 Q1553.04 1545.82 1556.65 1545.82 Q1560.28 1545.82 1562.09 1542.27 Q1563.92 1538.71 1563.92 1531.6 Q1563.92 1524.47 1562.09 1520.93 Q1560.28 1517.37 1556.65 1517.37 M1556.65 1513.66 Q1562.46 1513.66 1565.51 1518.27 Q1568.59 1522.85 1568.59 1531.6 Q1568.59 1540.33 1565.51 1544.94 Q1562.46 1549.52 1556.65 1549.52 Q1550.84 1549.52 1547.76 1544.94 Q1544.7 1540.33 1544.7 1531.6 Q1544.7 1522.85 1547.76 1518.27 Q1550.84 1513.66 1556.65 1513.66 Z\" fill=\"#000000\" fill-rule=\"evenodd\" fill-opacity=\"1\" /><path clip-path=\"url(#clip060)\" d=\"M2183.83 1544.91 L2191.47 1544.91 L2191.47 1518.55 L2183.16 1520.21 L2183.16 1515.95 L2191.43 1514.29 L2196.1 1514.29 L2196.1 1544.91 L2203.74 1544.91 L2203.74 1548.85 L2183.83 1548.85 L2183.83 1544.91 Z\" fill=\"#000000\" fill-rule=\"evenodd\" fill-opacity=\"1\" /><path clip-path=\"url(#clip060)\" d=\"M2213.19 1542.97 L2218.07 1542.97 L2218.07 1548.85 L2213.19 1548.85 L2213.19 1542.97 Z\" fill=\"#000000\" fill-rule=\"evenodd\" fill-opacity=\"1\" /><path clip-path=\"url(#clip060)\" d=\"M2228.3 1514.29 L2246.66 1514.29 L2246.66 1518.22 L2232.58 1518.22 L2232.58 1526.7 Q2233.6 1526.35 2234.62 1526.19 Q2235.64 1526 2236.66 1526 Q2242.44 1526 2245.82 1529.17 Q2249.2 1532.34 2249.2 1537.76 Q2249.2 1543.34 2245.73 1546.44 Q2242.26 1549.52 2235.94 1549.52 Q2233.76 1549.52 2231.5 1549.15 Q2229.25 1548.78 2226.84 1548.04 L2226.84 1543.34 Q2228.93 1544.47 2231.15 1545.03 Q2233.37 1545.58 2235.85 1545.58 Q2239.85 1545.58 2242.19 1543.48 Q2244.53 1541.37 2244.53 1537.76 Q2244.53 1534.15 2242.19 1532.04 Q2239.85 1529.94 2235.85 1529.94 Q2233.97 1529.94 2232.1 1530.35 Q2230.25 1530.77 2228.3 1531.65 L2228.3 1514.29 Z\" fill=\"#000000\" fill-rule=\"evenodd\" fill-opacity=\"1\" /><polyline clip-path=\"url(#clip062)\" style=\"stroke:#000000; stroke-linecap:round; stroke-linejoin:round; stroke-width:2; stroke-opacity:0.1; fill:none\" points=\"\n",
       "  156.598,1336.89 2352.76,1336.89 \n",
       "  \"/>\n",
       "<polyline clip-path=\"url(#clip062)\" style=\"stroke:#000000; stroke-linecap:round; stroke-linejoin:round; stroke-width:2; stroke-opacity:0.1; fill:none\" points=\"\n",
       "  156.598,1139.02 2352.76,1139.02 \n",
       "  \"/>\n",
       "<polyline clip-path=\"url(#clip062)\" style=\"stroke:#000000; stroke-linecap:round; stroke-linejoin:round; stroke-width:2; stroke-opacity:0.1; fill:none\" points=\"\n",
       "  156.598,941.157 2352.76,941.157 \n",
       "  \"/>\n",
       "<polyline clip-path=\"url(#clip062)\" style=\"stroke:#000000; stroke-linecap:round; stroke-linejoin:round; stroke-width:2; stroke-opacity:0.1; fill:none\" points=\"\n",
       "  156.598,743.292 2352.76,743.292 \n",
       "  \"/>\n",
       "<polyline clip-path=\"url(#clip062)\" style=\"stroke:#000000; stroke-linecap:round; stroke-linejoin:round; stroke-width:2; stroke-opacity:0.1; fill:none\" points=\"\n",
       "  156.598,545.427 2352.76,545.427 \n",
       "  \"/>\n",
       "<polyline clip-path=\"url(#clip062)\" style=\"stroke:#000000; stroke-linecap:round; stroke-linejoin:round; stroke-width:2; stroke-opacity:0.1; fill:none\" points=\"\n",
       "  156.598,347.562 2352.76,347.562 \n",
       "  \"/>\n",
       "<polyline clip-path=\"url(#clip062)\" style=\"stroke:#000000; stroke-linecap:round; stroke-linejoin:round; stroke-width:2; stroke-opacity:0.1; fill:none\" points=\"\n",
       "  156.598,149.697 2352.76,149.697 \n",
       "  \"/>\n",
       "<polyline clip-path=\"url(#clip060)\" style=\"stroke:#000000; stroke-linecap:round; stroke-linejoin:round; stroke-width:4; stroke-opacity:1; fill:none\" points=\"\n",
       "  156.598,1486.45 156.598,47.2441 \n",
       "  \"/>\n",
       "<polyline clip-path=\"url(#clip060)\" style=\"stroke:#000000; stroke-linecap:round; stroke-linejoin:round; stroke-width:4; stroke-opacity:1; fill:none\" points=\"\n",
       "  156.598,1336.89 175.496,1336.89 \n",
       "  \"/>\n",
       "<polyline clip-path=\"url(#clip060)\" style=\"stroke:#000000; stroke-linecap:round; stroke-linejoin:round; stroke-width:4; stroke-opacity:1; fill:none\" points=\"\n",
       "  156.598,1139.02 175.496,1139.02 \n",
       "  \"/>\n",
       "<polyline clip-path=\"url(#clip060)\" style=\"stroke:#000000; stroke-linecap:round; stroke-linejoin:round; stroke-width:4; stroke-opacity:1; fill:none\" points=\"\n",
       "  156.598,941.157 175.496,941.157 \n",
       "  \"/>\n",
       "<polyline clip-path=\"url(#clip060)\" style=\"stroke:#000000; stroke-linecap:round; stroke-linejoin:round; stroke-width:4; stroke-opacity:1; fill:none\" points=\"\n",
       "  156.598,743.292 175.496,743.292 \n",
       "  \"/>\n",
       "<polyline clip-path=\"url(#clip060)\" style=\"stroke:#000000; stroke-linecap:round; stroke-linejoin:round; stroke-width:4; stroke-opacity:1; fill:none\" points=\"\n",
       "  156.598,545.427 175.496,545.427 \n",
       "  \"/>\n",
       "<polyline clip-path=\"url(#clip060)\" style=\"stroke:#000000; stroke-linecap:round; stroke-linejoin:round; stroke-width:4; stroke-opacity:1; fill:none\" points=\"\n",
       "  156.598,347.562 175.496,347.562 \n",
       "  \"/>\n",
       "<polyline clip-path=\"url(#clip060)\" style=\"stroke:#000000; stroke-linecap:round; stroke-linejoin:round; stroke-width:4; stroke-opacity:1; fill:none\" points=\"\n",
       "  156.598,149.697 175.496,149.697 \n",
       "  \"/>\n",
       "<path clip-path=\"url(#clip060)\" d=\"M64.0708 1322.69 Q60.4597 1322.69 58.631 1326.25 Q56.8254 1329.79 56.8254 1336.92 Q56.8254 1344.03 58.631 1347.59 Q60.4597 1351.13 64.0708 1351.13 Q67.705 1351.13 69.5105 1347.59 Q71.3392 1344.03 71.3392 1336.92 Q71.3392 1329.79 69.5105 1326.25 Q67.705 1322.69 64.0708 1322.69 M64.0708 1318.98 Q69.8809 1318.98 72.9365 1323.59 Q76.0151 1328.17 76.0151 1336.92 Q76.0151 1345.65 72.9365 1350.25 Q69.8809 1354.84 64.0708 1354.84 Q58.2606 1354.84 55.1819 1350.25 Q52.1264 1345.65 52.1264 1336.92 Q52.1264 1328.17 55.1819 1323.59 Q58.2606 1318.98 64.0708 1318.98 Z\" fill=\"#000000\" fill-rule=\"evenodd\" fill-opacity=\"1\" /><path clip-path=\"url(#clip060)\" d=\"M84.2327 1348.29 L89.1169 1348.29 L89.1169 1354.17 L84.2327 1354.17 L84.2327 1348.29 Z\" fill=\"#000000\" fill-rule=\"evenodd\" fill-opacity=\"1\" /><path clip-path=\"url(#clip060)\" d=\"M113.469 1335.53 Q116.825 1336.25 118.7 1338.52 Q120.598 1340.79 120.598 1344.12 Q120.598 1349.24 117.08 1352.04 Q113.561 1354.84 107.08 1354.84 Q104.904 1354.84 102.589 1354.4 Q100.297 1353.98 97.8437 1353.12 L97.8437 1348.61 Q99.7882 1349.75 102.103 1350.32 Q104.418 1350.9 106.941 1350.9 Q111.339 1350.9 113.631 1349.17 Q115.945 1347.43 115.945 1344.12 Q115.945 1341.06 113.793 1339.35 Q111.663 1337.62 107.844 1337.62 L103.816 1337.62 L103.816 1333.77 L108.029 1333.77 Q111.478 1333.77 113.307 1332.41 Q115.135 1331.02 115.135 1328.43 Q115.135 1325.76 113.237 1324.35 Q111.362 1322.92 107.844 1322.92 Q105.922 1322.92 103.723 1323.33 Q101.524 1323.75 98.8854 1324.63 L98.8854 1320.46 Q101.547 1319.72 103.862 1319.35 Q106.2 1318.98 108.26 1318.98 Q113.584 1318.98 116.686 1321.41 Q119.788 1323.82 119.788 1327.94 Q119.788 1330.81 118.145 1332.8 Q116.501 1334.77 113.469 1335.53 Z\" fill=\"#000000\" fill-rule=\"evenodd\" fill-opacity=\"1\" /><path clip-path=\"url(#clip060)\" d=\"M62.9365 1124.82 Q59.3254 1124.82 57.4967 1128.39 Q55.6912 1131.93 55.6912 1139.06 Q55.6912 1146.16 57.4967 1149.73 Q59.3254 1153.27 62.9365 1153.27 Q66.5707 1153.27 68.3763 1149.73 Q70.205 1146.16 70.205 1139.06 Q70.205 1131.93 68.3763 1128.39 Q66.5707 1124.82 62.9365 1124.82 M62.9365 1121.12 Q68.7467 1121.12 71.8022 1125.72 Q74.8809 1130.31 74.8809 1139.06 Q74.8809 1147.78 71.8022 1152.39 Q68.7467 1156.97 62.9365 1156.97 Q57.1264 1156.97 54.0477 1152.39 Q50.9921 1147.78 50.9921 1139.06 Q50.9921 1130.31 54.0477 1125.72 Q57.1264 1121.12 62.9365 1121.12 Z\" fill=\"#000000\" fill-rule=\"evenodd\" fill-opacity=\"1\" /><path clip-path=\"url(#clip060)\" d=\"M83.0984 1150.42 L87.9827 1150.42 L87.9827 1156.3 L83.0984 1156.3 L83.0984 1150.42 Z\" fill=\"#000000\" fill-rule=\"evenodd\" fill-opacity=\"1\" /><path clip-path=\"url(#clip060)\" d=\"M111.015 1125.82 L99.2095 1144.26 L111.015 1144.26 L111.015 1125.82 M109.788 1121.74 L115.668 1121.74 L115.668 1144.26 L120.598 1144.26 L120.598 1148.15 L115.668 1148.15 L115.668 1156.3 L111.015 1156.3 L111.015 1148.15 L95.4132 1148.15 L95.4132 1143.64 L109.788 1121.74 Z\" fill=\"#000000\" fill-rule=\"evenodd\" fill-opacity=\"1\" /><path clip-path=\"url(#clip060)\" d=\"M64.418 926.956 Q60.8069 926.956 58.9782 930.52 Q57.1726 934.062 57.1726 941.192 Q57.1726 948.298 58.9782 951.863 Q60.8069 955.404 64.418 955.404 Q68.0522 955.404 69.8578 951.863 Q71.6865 948.298 71.6865 941.192 Q71.6865 934.062 69.8578 930.52 Q68.0522 926.956 64.418 926.956 M64.418 923.252 Q70.2281 923.252 73.2837 927.858 Q76.3624 932.442 76.3624 941.192 Q76.3624 949.918 73.2837 954.525 Q70.2281 959.108 64.418 959.108 Q58.6078 959.108 55.5291 954.525 Q52.4736 949.918 52.4736 941.192 Q52.4736 932.442 55.5291 927.858 Q58.6078 923.252 64.418 923.252 Z\" fill=\"#000000\" fill-rule=\"evenodd\" fill-opacity=\"1\" /><path clip-path=\"url(#clip060)\" d=\"M84.5799 952.557 L89.4641 952.557 L89.4641 958.437 L84.5799 958.437 L84.5799 952.557 Z\" fill=\"#000000\" fill-rule=\"evenodd\" fill-opacity=\"1\" /><path clip-path=\"url(#clip060)\" d=\"M99.6956 923.877 L118.052 923.877 L118.052 927.812 L103.978 927.812 L103.978 936.284 Q104.996 935.937 106.015 935.775 Q107.033 935.59 108.052 935.59 Q113.839 935.59 117.219 938.761 Q120.598 941.932 120.598 947.349 Q120.598 952.928 117.126 956.029 Q113.654 959.108 107.334 959.108 Q105.159 959.108 102.89 958.738 Q100.645 958.367 98.2372 957.627 L98.2372 952.928 Q100.321 954.062 102.543 954.617 Q104.765 955.173 107.242 955.173 Q111.246 955.173 113.584 953.066 Q115.922 950.96 115.922 947.349 Q115.922 943.738 113.584 941.631 Q111.246 939.525 107.242 939.525 Q105.367 939.525 103.492 939.942 Q101.64 940.358 99.6956 941.238 L99.6956 923.877 Z\" fill=\"#000000\" fill-rule=\"evenodd\" fill-opacity=\"1\" /><path clip-path=\"url(#clip060)\" d=\"M63.2606 729.091 Q59.6495 729.091 57.8208 732.655 Q56.0152 736.197 56.0152 743.327 Q56.0152 750.433 57.8208 753.998 Q59.6495 757.54 63.2606 757.54 Q66.8948 757.54 68.7004 753.998 Q70.5291 750.433 70.5291 743.327 Q70.5291 736.197 68.7004 732.655 Q66.8948 729.091 63.2606 729.091 M63.2606 725.387 Q69.0707 725.387 72.1263 729.993 Q75.205 734.577 75.205 743.327 Q75.205 752.053 72.1263 756.66 Q69.0707 761.243 63.2606 761.243 Q57.4504 761.243 54.3717 756.66 Q51.3162 752.053 51.3162 743.327 Q51.3162 734.577 54.3717 729.993 Q57.4504 725.387 63.2606 725.387 Z\" fill=\"#000000\" fill-rule=\"evenodd\" fill-opacity=\"1\" /><path clip-path=\"url(#clip060)\" d=\"M83.4225 754.692 L88.3067 754.692 L88.3067 760.572 L83.4225 760.572 L83.4225 754.692 Z\" fill=\"#000000\" fill-rule=\"evenodd\" fill-opacity=\"1\" /><path clip-path=\"url(#clip060)\" d=\"M109.071 741.429 Q105.922 741.429 104.071 743.581 Q102.242 745.734 102.242 749.484 Q102.242 753.211 104.071 755.387 Q105.922 757.54 109.071 757.54 Q112.219 757.54 114.047 755.387 Q115.899 753.211 115.899 749.484 Q115.899 745.734 114.047 743.581 Q112.219 741.429 109.071 741.429 M118.353 726.776 L118.353 731.035 Q116.594 730.202 114.788 729.762 Q113.006 729.322 111.246 729.322 Q106.617 729.322 104.163 732.447 Q101.733 735.572 101.385 741.891 Q102.751 739.878 104.811 738.813 Q106.871 737.725 109.348 737.725 Q114.557 737.725 117.566 740.896 Q120.598 744.044 120.598 749.484 Q120.598 754.808 117.45 758.026 Q114.302 761.243 109.071 761.243 Q103.075 761.243 99.9039 756.66 Q96.7326 752.053 96.7326 743.327 Q96.7326 735.132 100.621 730.271 Q104.51 725.387 111.061 725.387 Q112.82 725.387 114.603 725.734 Q116.408 726.081 118.353 726.776 Z\" fill=\"#000000\" fill-rule=\"evenodd\" fill-opacity=\"1\" /><path clip-path=\"url(#clip060)\" d=\"M64.3254 531.226 Q60.7143 531.226 58.8856 534.791 Q57.0801 538.332 57.0801 545.462 Q57.0801 552.568 58.8856 556.133 Q60.7143 559.675 64.3254 559.675 Q67.9596 559.675 69.7652 556.133 Q71.5939 552.568 71.5939 545.462 Q71.5939 538.332 69.7652 534.791 Q67.9596 531.226 64.3254 531.226 M64.3254 527.522 Q70.1355 527.522 73.1911 532.129 Q76.2698 536.712 76.2698 545.462 Q76.2698 554.189 73.1911 558.795 Q70.1355 563.378 64.3254 563.378 Q58.5152 563.378 55.4365 558.795 Q52.381 554.189 52.381 545.462 Q52.381 536.712 55.4365 532.129 Q58.5152 527.522 64.3254 527.522 Z\" fill=\"#000000\" fill-rule=\"evenodd\" fill-opacity=\"1\" /><path clip-path=\"url(#clip060)\" d=\"M84.4873 556.827 L89.3715 556.827 L89.3715 562.707 L84.4873 562.707 L84.4873 556.827 Z\" fill=\"#000000\" fill-rule=\"evenodd\" fill-opacity=\"1\" /><path clip-path=\"url(#clip060)\" d=\"M98.3761 528.147 L120.598 528.147 L120.598 530.138 L108.052 562.707 L103.168 562.707 L114.973 532.082 L98.3761 532.082 L98.3761 528.147 Z\" fill=\"#000000\" fill-rule=\"evenodd\" fill-opacity=\"1\" /><path clip-path=\"url(#clip060)\" d=\"M63.5152 333.361 Q59.9041 333.361 58.0754 336.926 Q56.2699 340.467 56.2699 347.597 Q56.2699 354.703 58.0754 358.268 Q59.9041 361.81 63.5152 361.81 Q67.1494 361.81 68.955 358.268 Q70.7837 354.703 70.7837 347.597 Q70.7837 340.467 68.955 336.926 Q67.1494 333.361 63.5152 333.361 M63.5152 329.657 Q69.3254 329.657 72.3809 334.264 Q75.4596 338.847 75.4596 347.597 Q75.4596 356.324 72.3809 360.93 Q69.3254 365.513 63.5152 365.513 Q57.7051 365.513 54.6264 360.93 Q51.5708 356.324 51.5708 347.597 Q51.5708 338.847 54.6264 334.264 Q57.7051 329.657 63.5152 329.657 Z\" fill=\"#000000\" fill-rule=\"evenodd\" fill-opacity=\"1\" /><path clip-path=\"url(#clip060)\" d=\"M83.6771 358.963 L88.5614 358.963 L88.5614 364.842 L83.6771 364.842 L83.6771 358.963 Z\" fill=\"#000000\" fill-rule=\"evenodd\" fill-opacity=\"1\" /><path clip-path=\"url(#clip060)\" d=\"M108.746 348.43 Q105.413 348.43 103.492 350.213 Q101.594 351.995 101.594 355.12 Q101.594 358.245 103.492 360.027 Q105.413 361.81 108.746 361.81 Q112.08 361.81 114.001 360.027 Q115.922 358.222 115.922 355.12 Q115.922 351.995 114.001 350.213 Q112.103 348.43 108.746 348.43 M104.071 346.439 Q101.061 345.699 99.3715 343.639 Q97.7048 341.578 97.7048 338.615 Q97.7048 334.472 100.645 332.065 Q103.608 329.657 108.746 329.657 Q113.908 329.657 116.848 332.065 Q119.788 334.472 119.788 338.615 Q119.788 341.578 118.098 343.639 Q116.432 345.699 113.445 346.439 Q116.825 347.227 118.7 349.518 Q120.598 351.81 120.598 355.12 Q120.598 360.143 117.52 362.828 Q114.464 365.513 108.746 365.513 Q103.029 365.513 99.9502 362.828 Q96.8947 360.143 96.8947 355.12 Q96.8947 351.81 98.7928 349.518 Q100.691 347.227 104.071 346.439 M102.358 339.055 Q102.358 341.74 104.024 343.245 Q105.714 344.75 108.746 344.75 Q111.756 344.75 113.445 343.245 Q115.158 341.74 115.158 339.055 Q115.158 336.37 113.445 334.865 Q111.756 333.361 108.746 333.361 Q105.714 333.361 104.024 334.865 Q102.358 336.37 102.358 339.055 Z\" fill=\"#000000\" fill-rule=\"evenodd\" fill-opacity=\"1\" /><path clip-path=\"url(#clip060)\" d=\"M63.6078 135.496 Q59.9967 135.496 58.168 139.061 Q56.3625 142.602 56.3625 149.732 Q56.3625 156.838 58.168 160.403 Q59.9967 163.945 63.6078 163.945 Q67.242 163.945 69.0476 160.403 Q70.8763 156.838 70.8763 149.732 Q70.8763 142.602 69.0476 139.061 Q67.242 135.496 63.6078 135.496 M63.6078 131.792 Q69.418 131.792 72.4735 136.399 Q75.5522 140.982 75.5522 149.732 Q75.5522 158.459 72.4735 163.065 Q69.418 167.649 63.6078 167.649 Q57.7976 167.649 54.719 163.065 Q51.6634 158.459 51.6634 149.732 Q51.6634 140.982 54.719 136.399 Q57.7976 131.792 63.6078 131.792 Z\" fill=\"#000000\" fill-rule=\"evenodd\" fill-opacity=\"1\" /><path clip-path=\"url(#clip060)\" d=\"M83.7697 161.098 L88.654 161.098 L88.654 166.977 L83.7697 166.977 L83.7697 161.098 Z\" fill=\"#000000\" fill-rule=\"evenodd\" fill-opacity=\"1\" /><path clip-path=\"url(#clip060)\" d=\"M98.978 166.26 L98.978 162 Q100.737 162.834 102.543 163.274 Q104.348 163.713 106.084 163.713 Q110.714 163.713 113.145 160.612 Q115.598 157.487 115.945 151.144 Q114.603 153.135 112.543 154.2 Q110.483 155.264 107.983 155.264 Q102.797 155.264 99.765 152.139 Q96.7558 148.991 96.7558 143.551 Q96.7558 138.227 99.9039 135.01 Q103.052 131.792 108.283 131.792 Q114.279 131.792 117.427 136.399 Q120.598 140.982 120.598 149.732 Q120.598 157.903 116.709 162.787 Q112.844 167.649 106.293 167.649 Q104.534 167.649 102.728 167.301 Q100.922 166.954 98.978 166.26 M108.283 151.607 Q111.432 151.607 113.26 149.454 Q115.112 147.301 115.112 143.551 Q115.112 139.825 113.26 137.672 Q111.432 135.496 108.283 135.496 Q105.135 135.496 103.284 137.672 Q101.455 139.825 101.455 143.551 Q101.455 147.301 103.284 149.454 Q105.135 151.607 108.283 151.607 Z\" fill=\"#000000\" fill-rule=\"evenodd\" fill-opacity=\"1\" /><polyline clip-path=\"url(#clip062)\" style=\"stroke:#009af9; stroke-linecap:round; stroke-linejoin:round; stroke-width:4; stroke-opacity:1; fill:none\" points=\"\n",
       "  218.754,1445.72 2290.6,416.504 1543.63,87.9763 1408.46,96.0048 218.754,1445.72 \n",
       "  \"/>\n",
       "<path clip-path=\"url(#clip060)\" d=\"\n",
       "M1983.1 198.898 L2279.55 198.898 L2279.55 95.2176 L1983.1 95.2176  Z\n",
       "  \" fill=\"#ffffff\" fill-rule=\"evenodd\" fill-opacity=\"1\"/>\n",
       "<polyline clip-path=\"url(#clip060)\" style=\"stroke:#000000; stroke-linecap:round; stroke-linejoin:round; stroke-width:4; stroke-opacity:1; fill:none\" points=\"\n",
       "  1983.1,198.898 2279.55,198.898 2279.55,95.2176 1983.1,95.2176 1983.1,198.898 \n",
       "  \"/>\n",
       "<polyline clip-path=\"url(#clip060)\" style=\"stroke:#009af9; stroke-linecap:round; stroke-linejoin:round; stroke-width:4; stroke-opacity:1; fill:none\" points=\"\n",
       "  2007.5,147.058 2153.92,147.058 \n",
       "  \"/>\n",
       "<path clip-path=\"url(#clip060)\" d=\"M2192.16 166.745 Q2190.35 171.375 2188.64 172.787 Q2186.93 174.199 2184.06 174.199 L2180.65 174.199 L2180.65 170.634 L2183.15 170.634 Q2184.91 170.634 2185.89 169.8 Q2186.86 168.967 2188.04 165.865 L2188.8 163.921 L2178.32 138.412 L2182.83 138.412 L2190.93 158.689 L2199.03 138.412 L2203.55 138.412 L2192.16 166.745 Z\" fill=\"#000000\" fill-rule=\"evenodd\" fill-opacity=\"1\" /><path clip-path=\"url(#clip060)\" d=\"M2210.84 160.402 L2218.48 160.402 L2218.48 134.037 L2210.17 135.703 L2210.17 131.444 L2218.43 129.778 L2223.11 129.778 L2223.11 160.402 L2230.75 160.402 L2230.75 164.338 L2210.84 164.338 L2210.84 160.402 Z\" fill=\"#000000\" fill-rule=\"evenodd\" fill-opacity=\"1\" /></svg>\n"
      ]
     },
     "metadata": {},
     "output_type": "display_data"
    }
   ],
   "source": [
    "a = GenerateRandomConvexPolygon(4)\n",
    "xs = []\n",
    "ys = []\n",
    "for i in 1:4\n",
    "    append!(xs,a[i].x)\n",
    "    append!(ys,a[i].y)\n",
    "end\n",
    "\n",
    "append!(xs,a[1].x)\n",
    "append!(ys,a[1].y)\n",
    "\n",
    "plot(xs,ys)"
   ]
  },
  {
   "cell_type": "markdown",
   "metadata": {},
   "source": [
    "reference: https://cglab.ca/~sander/misc/ConvexGeneration/convex.html"
   ]
  },
  {
   "cell_type": "code",
   "execution_count": 79,
   "metadata": {},
   "outputs": [
    {
     "data": {
      "text/plain": [
       "Point(1.0, 2.0)"
      ]
     },
     "metadata": {},
     "output_type": "display_data"
    }
   ],
   "source": [
    "point = Point(1,2)\n",
    "point2 = Point(1,2)"
   ]
  },
  {
   "cell_type": "code",
   "execution_count": 84,
   "metadata": {},
   "outputs": [
    {
     "data": {
      "text/plain": [
       "3-element Vector{Point}:\n",
       " Point(1.0, 2.0)\n",
       " Point(1.0, 2.0)\n",
       " Point(1.0, 2.0)"
      ]
     },
     "metadata": {},
     "output_type": "display_data"
    }
   ],
   "source": [
    "a = [point,point2]\n",
    "\n",
    "push!(a, Point(1,2))"
   ]
  },
  {
   "cell_type": "code",
   "execution_count": 9,
   "metadata": {},
   "outputs": [
    {
     "data": {
      "text/plain": [
       "2.0"
      ]
     },
     "metadata": {},
     "output_type": "display_data"
    }
   ],
   "source": [
    "point.y"
   ]
  },
  {
   "cell_type": "code",
   "execution_count": 62,
   "metadata": {},
   "outputs": [
    {
     "data": {
      "text/plain": [
       "5-element Vector{Int64}:\n",
       " 3\n",
       " 1\n",
       " 5\n",
       " 2\n",
       " 4"
      ]
     },
     "metadata": {},
     "output_type": "display_data"
    }
   ],
   "source": [
    "x = [1,2,3,4,5]\n",
    "shuffle!(x)"
   ]
  },
  {
   "cell_type": "code",
   "execution_count": 64,
   "metadata": {},
   "outputs": [
    {
     "data": {
      "text/plain": [
       "1"
      ]
     },
     "metadata": {},
     "output_type": "display_data"
    }
   ],
   "source": [
    "minimum(x)"
   ]
  },
  {
   "cell_type": "code",
   "execution_count": 108,
   "metadata": {},
   "outputs": [
    {
     "data": {
      "text/plain": [
       "1"
      ]
     },
     "metadata": {},
     "output_type": "display_data"
    }
   ],
   "source": [
    "min(1,2)"
   ]
  },
  {
   "cell_type": "code",
   "execution_count": null,
   "metadata": {},
   "outputs": [],
   "source": []
  }
 ],
 "metadata": {
  "kernelspec": {
   "display_name": "Julia 1.8.1",
   "language": "julia",
   "name": "julia-1.8"
  },
  "language_info": {
   "file_extension": ".jl",
   "mimetype": "application/julia",
   "name": "julia",
   "version": "1.8.1"
  },
  "orig_nbformat": 4
 },
 "nbformat": 4,
 "nbformat_minor": 2
}
