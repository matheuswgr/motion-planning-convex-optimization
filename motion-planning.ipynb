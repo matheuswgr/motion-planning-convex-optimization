{
 "cells": [
  {
   "cell_type": "markdown",
   "metadata": {},
   "source": [
    "#### Imports"
   ]
  },
  {
   "cell_type": "code",
   "execution_count": 127,
   "metadata": {},
   "outputs": [],
   "source": [
    "using Plots\n",
    "using Random"
   ]
  },
  {
   "cell_type": "markdown",
   "metadata": {},
   "source": [
    "# Motion Planning Using Convex Optimization"
   ]
  },
  {
   "cell_type": "markdown",
   "metadata": {},
   "source": [
    "## Model"
   ]
  },
  {
   "cell_type": "code",
   "execution_count": 128,
   "metadata": {},
   "outputs": [],
   "source": [
    "struct Point\n",
    "    x::Float64\n",
    "    y::Float64\n",
    "end"
   ]
  },
  {
   "cell_type": "code",
   "execution_count": 129,
   "metadata": {},
   "outputs": [],
   "source": [
    "struct Pose\n",
    "    position::Point\n",
    "    orientation::Float64\n",
    "end"
   ]
  },
  {
   "cell_type": "markdown",
   "metadata": {},
   "source": [
    "## Random Map Generation"
   ]
  },
  {
   "cell_type": "markdown",
   "metadata": {},
   "source": [
    "### Random Convex Polygon Generation"
   ]
  },
  {
   "cell_type": "code",
   "execution_count": 130,
   "metadata": {},
   "outputs": [
    {
     "data": {
      "text/plain": [
       "GenerateRandomConvexPolygon (generic function with 1 method)"
      ]
     },
     "execution_count": 130,
     "metadata": {},
     "output_type": "execute_result"
    }
   ],
   "source": [
    "function GenerateRandomConvexPolygon(numberOfVertices::Int64)\n",
    "    # Still remains a test for convexity and \n",
    "    #keep up with the computation until a convex poligon is found\n",
    "    \n",
    "    #Generate two lists of random X and Y coordinates\n",
    "    xCoordinateRandomPoints = []\n",
    "    yCoordinateRandomPoints = []\n",
    "\n",
    "    for i in 1:numberOfVertices\n",
    "        append!(xCoordinateRandomPoints, rand())\n",
    "        append!(yCoordinateRandomPoints, rand())\n",
    "    end\n",
    "\n",
    "    #Sort them\n",
    "    sort!(xCoordinateRandomPoints)\n",
    "    sort!(yCoordinateRandomPoints)\n",
    "\n",
    "    #Isolate the extreme points\n",
    "    minimumX = xCoordinateRandomPoints[1]\n",
    "    maximumX = xCoordinateRandomPoints[numberOfVertices]\n",
    "    minimumY = yCoordinateRandomPoints[1]\n",
    "    maximumY = yCoordinateRandomPoints[numberOfVertices]\n",
    "\n",
    "    #Randomly divide the interior points into two chains\n",
    "    xVectors = []\n",
    "    yVectors = []\n",
    "\n",
    "    lastTop = minimumX\n",
    "    lastBot = minimumX;\n",
    "    \n",
    "    #Extract the vector components\n",
    "    for i in 2:numberOfVertices-1\n",
    "        x = xCoordinateRandomPoints[i];\n",
    "\n",
    "        if rand(Bool)\n",
    "            append!(xVectors, x - lastTop)\n",
    "            lastTop = x;\n",
    "        else \n",
    "            append!(xVectors, x - lastBot)\n",
    "            lastBot = x;\n",
    "        end\n",
    "    end\n",
    "\n",
    "\n",
    "    append!(xVectors, maximumX - lastTop)\n",
    "    append!(xVectors, lastBot - maximumX)\n",
    "\n",
    "    lastLeft = minimumY\n",
    "    lastRight = minimumY;\n",
    "\n",
    "    for i in 2:numberOfVertices-1\n",
    "        y = yCoordinateRandomPoints[i];\n",
    "\n",
    "        if rand(Bool)\n",
    "            append!(yVectors, y - lastLeft)\n",
    "            lastLeft = y;\n",
    "        else \n",
    "            append!(yVectors, lastRight - y)\n",
    "            lastRight = y;\n",
    "        end\n",
    "    end\n",
    "\n",
    "    append!(yVectors, maximumY - lastLeft)\n",
    "    append!(yVectors, lastRight - maximumY)\n",
    "\n",
    "    shuffle(yVectors);\n",
    "\n",
    "    #Randomly pair up the X- and Y-components\n",
    "    points = []\n",
    "    angles = []\n",
    "\n",
    "    for i in 1:numberOfVertices\n",
    "        push!(points, Point(xVectors[i],yVectors[i]))\n",
    "        append!(angles, atan(yVectors[i],xVectors[i]))\n",
    "    end\n",
    "\n",
    "    order = sortperm(angles)\n",
    "    \n",
    "\n",
    "    points = points[order]\n",
    "\n",
    "    x = 0.0\n",
    "    y = 0.0\n",
    "    minPolygonX = 0;\n",
    "    minPolygonY = 0;\n",
    "    newPoints = []\n",
    "    for i in 1:numberOfVertices \n",
    "        push!(newPoints, Point(x,y))\n",
    "\n",
    "        x += points[i].x;\n",
    "        y += points[i].y;\n",
    "\n",
    "        minPolygonX = min(minPolygonX, x)\n",
    "        minPolygonY = min(minPolygonY, y)\n",
    "    end\n",
    "    \n",
    "\n",
    "    xShift = minimumX - minPolygonX;\n",
    "    yShift = minimumY - minPolygonY;\n",
    "\n",
    "    for i in 1:numberOfVertices \n",
    "        p = points[i]\n",
    "        points[i] = Point(p.x + xShift, p.y + yShift)\n",
    "    end\n",
    "    \n",
    "    return points;\n",
    "end\n"
   ]
  },
  {
   "cell_type": "code",
   "execution_count": 204,
   "metadata": {},
   "outputs": [
    {
     "data": {
      "image/svg+xml": "<?xml version=\"1.0\" encoding=\"utf-8\"?>\n<svg xmlns=\"http://www.w3.org/2000/svg\" xmlns:xlink=\"http://www.w3.org/1999/xlink\" width=\"600\" height=\"400\" viewBox=\"0 0 2400 1600\">\n<defs>\n  <clipPath id=\"clip570\">\n    <rect x=\"0\" y=\"0\" width=\"2400\" height=\"1600\"/>\n  </clipPath>\n</defs>\n<path clip-path=\"url(#clip570)\" d=\"\nM0 1600 L2400 1600 L2400 0 L0 0  Z\n  \" fill=\"#ffffff\" fill-rule=\"evenodd\" fill-opacity=\"1\"/>\n<defs>\n  <clipPath id=\"clip571\">\n    <rect x=\"480\" y=\"0\" width=\"1681\" height=\"1600\"/>\n  </clipPath>\n</defs>\n<path clip-path=\"url(#clip570)\" d=\"\nM185.279 1486.45 L2352.76 1486.45 L2352.76 47.2441 L185.279 47.2441  Z\n  \" fill=\"#ffffff\" fill-rule=\"evenodd\" fill-opacity=\"1\"/>\n<defs>\n  <clipPath id=\"clip572\">\n    <rect x=\"185\" y=\"47\" width=\"2168\" height=\"1440\"/>\n  </clipPath>\n</defs>\n<polyline clip-path=\"url(#clip572)\" style=\"stroke:#000000; stroke-linecap:round; stroke-linejoin:round; stroke-width:2; stroke-opacity:0.1; fill:none\" points=\"\n  525.09,1486.45 525.09,47.2441 \n  \"/>\n<polyline clip-path=\"url(#clip572)\" style=\"stroke:#000000; stroke-linecap:round; stroke-linejoin:round; stroke-width:2; stroke-opacity:0.1; fill:none\" points=\"\n  1033.98,1486.45 1033.98,47.2441 \n  \"/>\n<polyline clip-path=\"url(#clip572)\" style=\"stroke:#000000; stroke-linecap:round; stroke-linejoin:round; stroke-width:2; stroke-opacity:0.1; fill:none\" points=\"\n  1542.88,1486.45 1542.88,47.2441 \n  \"/>\n<polyline clip-path=\"url(#clip572)\" style=\"stroke:#000000; stroke-linecap:round; stroke-linejoin:round; stroke-width:2; stroke-opacity:0.1; fill:none\" points=\"\n  2051.77,1486.45 2051.77,47.2441 \n  \"/>\n<polyline clip-path=\"url(#clip570)\" style=\"stroke:#000000; stroke-linecap:round; stroke-linejoin:round; stroke-width:4; stroke-opacity:1; fill:none\" points=\"\n  185.279,1486.45 2352.76,1486.45 \n  \"/>\n<polyline clip-path=\"url(#clip570)\" style=\"stroke:#000000; stroke-linecap:round; stroke-linejoin:round; stroke-width:4; stroke-opacity:1; fill:none\" points=\"\n  525.09,1486.45 525.09,1467.55 \n  \"/>\n<polyline clip-path=\"url(#clip570)\" style=\"stroke:#000000; stroke-linecap:round; stroke-linejoin:round; stroke-width:4; stroke-opacity:1; fill:none\" points=\"\n  1033.98,1486.45 1033.98,1467.55 \n  \"/>\n<polyline clip-path=\"url(#clip570)\" style=\"stroke:#000000; stroke-linecap:round; stroke-linejoin:round; stroke-width:4; stroke-opacity:1; fill:none\" points=\"\n  1542.88,1486.45 1542.88,1467.55 \n  \"/>\n<polyline clip-path=\"url(#clip570)\" style=\"stroke:#000000; stroke-linecap:round; stroke-linejoin:round; stroke-width:4; stroke-opacity:1; fill:none\" points=\"\n  2051.77,1486.45 2051.77,1467.55 \n  \"/>\n<path clip-path=\"url(#clip570)\" d=\"M502.231 1517.37 Q498.62 1517.37 496.791 1520.93 Q494.986 1524.47 494.986 1531.6 Q494.986 1538.71 496.791 1542.27 Q498.62 1545.82 502.231 1545.82 Q505.865 1545.82 507.671 1542.27 Q509.499 1538.71 509.499 1531.6 Q509.499 1524.47 507.671 1520.93 Q505.865 1517.37 502.231 1517.37 M502.231 1513.66 Q508.041 1513.66 511.097 1518.27 Q514.175 1522.85 514.175 1531.6 Q514.175 1540.33 511.097 1544.94 Q508.041 1549.52 502.231 1549.52 Q496.421 1549.52 493.342 1544.94 Q490.287 1540.33 490.287 1531.6 Q490.287 1522.85 493.342 1518.27 Q496.421 1513.66 502.231 1513.66 Z\" fill=\"#000000\" fill-rule=\"evenodd\" fill-opacity=\"1\" /><path clip-path=\"url(#clip570)\" d=\"M522.393 1542.97 L527.277 1542.97 L527.277 1548.85 L522.393 1548.85 L522.393 1542.97 Z\" fill=\"#000000\" fill-rule=\"evenodd\" fill-opacity=\"1\" /><path clip-path=\"url(#clip570)\" d=\"M550.309 1518.36 L538.504 1536.81 L550.309 1536.81 L550.309 1518.36 M549.083 1514.29 L554.962 1514.29 L554.962 1536.81 L559.893 1536.81 L559.893 1540.7 L554.962 1540.7 L554.962 1548.85 L550.309 1548.85 L550.309 1540.7 L534.708 1540.7 L534.708 1536.19 L549.083 1514.29 Z\" fill=\"#000000\" fill-rule=\"evenodd\" fill-opacity=\"1\" /><path clip-path=\"url(#clip570)\" d=\"M1011.29 1517.37 Q1007.68 1517.37 1005.85 1520.93 Q1004.04 1524.47 1004.04 1531.6 Q1004.04 1538.71 1005.85 1542.27 Q1007.68 1545.82 1011.29 1545.82 Q1014.92 1545.82 1016.73 1542.27 Q1018.56 1538.71 1018.56 1531.6 Q1018.56 1524.47 1016.73 1520.93 Q1014.92 1517.37 1011.29 1517.37 M1011.29 1513.66 Q1017.1 1513.66 1020.15 1518.27 Q1023.23 1522.85 1023.23 1531.6 Q1023.23 1540.33 1020.15 1544.94 Q1017.1 1549.52 1011.29 1549.52 Q1005.48 1549.52 1002.4 1544.94 Q999.343 1540.33 999.343 1531.6 Q999.343 1522.85 1002.4 1518.27 Q1005.48 1513.66 1011.29 1513.66 Z\" fill=\"#000000\" fill-rule=\"evenodd\" fill-opacity=\"1\" /><path clip-path=\"url(#clip570)\" d=\"M1031.45 1542.97 L1036.33 1542.97 L1036.33 1548.85 L1031.45 1548.85 L1031.45 1542.97 Z\" fill=\"#000000\" fill-rule=\"evenodd\" fill-opacity=\"1\" /><path clip-path=\"url(#clip570)\" d=\"M1057.1 1529.7 Q1053.95 1529.7 1052.1 1531.86 Q1050.27 1534.01 1050.27 1537.76 Q1050.27 1541.49 1052.1 1543.66 Q1053.95 1545.82 1057.1 1545.82 Q1060.25 1545.82 1062.07 1543.66 Q1063.93 1541.49 1063.93 1537.76 Q1063.93 1534.01 1062.07 1531.86 Q1060.25 1529.7 1057.1 1529.7 M1066.38 1515.05 L1066.38 1519.31 Q1064.62 1518.48 1062.81 1518.04 Q1061.03 1517.6 1059.27 1517.6 Q1054.64 1517.6 1052.19 1520.72 Q1049.76 1523.85 1049.41 1530.17 Q1050.78 1528.15 1052.84 1527.09 Q1054.9 1526 1057.37 1526 Q1062.58 1526 1065.59 1529.17 Q1068.62 1532.32 1068.62 1537.76 Q1068.62 1543.08 1065.48 1546.3 Q1062.33 1549.52 1057.1 1549.52 Q1051.1 1549.52 1047.93 1544.94 Q1044.76 1540.33 1044.76 1531.6 Q1044.76 1523.41 1048.65 1518.55 Q1052.54 1513.66 1059.09 1513.66 Q1060.85 1513.66 1062.63 1514.01 Q1064.44 1514.36 1066.38 1515.05 Z\" fill=\"#000000\" fill-rule=\"evenodd\" fill-opacity=\"1\" /><path clip-path=\"url(#clip570)\" d=\"M1520.31 1517.37 Q1516.7 1517.37 1514.87 1520.93 Q1513.06 1524.47 1513.06 1531.6 Q1513.06 1538.71 1514.87 1542.27 Q1516.7 1545.82 1520.31 1545.82 Q1523.94 1545.82 1525.75 1542.27 Q1527.58 1538.71 1527.58 1531.6 Q1527.58 1524.47 1525.75 1520.93 Q1523.94 1517.37 1520.31 1517.37 M1520.31 1513.66 Q1526.12 1513.66 1529.17 1518.27 Q1532.25 1522.85 1532.25 1531.6 Q1532.25 1540.33 1529.17 1544.94 Q1526.12 1549.52 1520.31 1549.52 Q1514.5 1549.52 1511.42 1544.94 Q1508.36 1540.33 1508.36 1531.6 Q1508.36 1522.85 1511.42 1518.27 Q1514.5 1513.66 1520.31 1513.66 Z\" fill=\"#000000\" fill-rule=\"evenodd\" fill-opacity=\"1\" /><path clip-path=\"url(#clip570)\" d=\"M1540.47 1542.97 L1545.35 1542.97 L1545.35 1548.85 L1540.47 1548.85 L1540.47 1542.97 Z\" fill=\"#000000\" fill-rule=\"evenodd\" fill-opacity=\"1\" /><path clip-path=\"url(#clip570)\" d=\"M1565.54 1532.44 Q1562.21 1532.44 1560.29 1534.22 Q1558.39 1536 1558.39 1539.13 Q1558.39 1542.25 1560.29 1544.03 Q1562.21 1545.82 1565.54 1545.82 Q1568.87 1545.82 1570.79 1544.03 Q1572.72 1542.23 1572.72 1539.13 Q1572.72 1536 1570.79 1534.22 Q1568.9 1532.44 1565.54 1532.44 M1560.86 1530.45 Q1557.85 1529.7 1556.16 1527.64 Q1554.5 1525.58 1554.5 1522.62 Q1554.5 1518.48 1557.44 1516.07 Q1560.4 1513.66 1565.54 1513.66 Q1570.7 1513.66 1573.64 1516.07 Q1576.58 1518.48 1576.58 1522.62 Q1576.58 1525.58 1574.89 1527.64 Q1573.23 1529.7 1570.24 1530.45 Q1573.62 1531.23 1575.49 1533.52 Q1577.39 1535.82 1577.39 1539.13 Q1577.39 1544.15 1574.31 1546.83 Q1571.26 1549.52 1565.54 1549.52 Q1559.82 1549.52 1556.74 1546.83 Q1553.69 1544.15 1553.69 1539.13 Q1553.69 1535.82 1555.59 1533.52 Q1557.48 1531.23 1560.86 1530.45 M1559.15 1523.06 Q1559.15 1525.75 1560.82 1527.25 Q1562.51 1528.76 1565.54 1528.76 Q1568.55 1528.76 1570.24 1527.25 Q1571.95 1525.75 1571.95 1523.06 Q1571.95 1520.38 1570.24 1518.87 Q1568.55 1517.37 1565.54 1517.37 Q1562.51 1517.37 1560.82 1518.87 Q1559.15 1520.38 1559.15 1523.06 Z\" fill=\"#000000\" fill-rule=\"evenodd\" fill-opacity=\"1\" /><path clip-path=\"url(#clip570)\" d=\"M2018.93 1544.91 L2026.56 1544.91 L2026.56 1518.55 L2018.25 1520.21 L2018.25 1515.95 L2026.52 1514.29 L2031.19 1514.29 L2031.19 1544.91 L2038.83 1544.91 L2038.83 1548.85 L2018.93 1548.85 L2018.93 1544.91 Z\" fill=\"#000000\" fill-rule=\"evenodd\" fill-opacity=\"1\" /><path clip-path=\"url(#clip570)\" d=\"M2048.28 1542.97 L2053.16 1542.97 L2053.16 1548.85 L2048.28 1548.85 L2048.28 1542.97 Z\" fill=\"#000000\" fill-rule=\"evenodd\" fill-opacity=\"1\" /><path clip-path=\"url(#clip570)\" d=\"M2073.35 1517.37 Q2069.74 1517.37 2067.91 1520.93 Q2066.1 1524.47 2066.1 1531.6 Q2066.1 1538.71 2067.91 1542.27 Q2069.74 1545.82 2073.35 1545.82 Q2076.98 1545.82 2078.79 1542.27 Q2080.61 1538.71 2080.61 1531.6 Q2080.61 1524.47 2078.79 1520.93 Q2076.98 1517.37 2073.35 1517.37 M2073.35 1513.66 Q2079.16 1513.66 2082.21 1518.27 Q2085.29 1522.85 2085.29 1531.6 Q2085.29 1540.33 2082.21 1544.94 Q2079.16 1549.52 2073.35 1549.52 Q2067.54 1549.52 2064.46 1544.94 Q2061.4 1540.33 2061.4 1531.6 Q2061.4 1522.85 2064.46 1518.27 Q2067.54 1513.66 2073.35 1513.66 Z\" fill=\"#000000\" fill-rule=\"evenodd\" fill-opacity=\"1\" /><polyline clip-path=\"url(#clip572)\" style=\"stroke:#000000; stroke-linecap:round; stroke-linejoin:round; stroke-width:2; stroke-opacity:0.1; fill:none\" points=\"\n  185.279,1287.17 2352.76,1287.17 \n  \"/>\n<polyline clip-path=\"url(#clip572)\" style=\"stroke:#000000; stroke-linecap:round; stroke-linejoin:round; stroke-width:2; stroke-opacity:0.1; fill:none\" points=\"\n  185.279,979.269 2352.76,979.269 \n  \"/>\n<polyline clip-path=\"url(#clip572)\" style=\"stroke:#000000; stroke-linecap:round; stroke-linejoin:round; stroke-width:2; stroke-opacity:0.1; fill:none\" points=\"\n  185.279,671.371 2352.76,671.371 \n  \"/>\n<polyline clip-path=\"url(#clip572)\" style=\"stroke:#000000; stroke-linecap:round; stroke-linejoin:round; stroke-width:2; stroke-opacity:0.1; fill:none\" points=\"\n  185.279,363.472 2352.76,363.472 \n  \"/>\n<polyline clip-path=\"url(#clip572)\" style=\"stroke:#000000; stroke-linecap:round; stroke-linejoin:round; stroke-width:2; stroke-opacity:0.1; fill:none\" points=\"\n  185.279,55.574 2352.76,55.574 \n  \"/>\n<polyline clip-path=\"url(#clip570)\" style=\"stroke:#000000; stroke-linecap:round; stroke-linejoin:round; stroke-width:4; stroke-opacity:1; fill:none\" points=\"\n  185.279,1486.45 185.279,47.2441 \n  \"/>\n<polyline clip-path=\"url(#clip570)\" style=\"stroke:#000000; stroke-linecap:round; stroke-linejoin:round; stroke-width:4; stroke-opacity:1; fill:none\" points=\"\n  185.279,1287.17 204.176,1287.17 \n  \"/>\n<polyline clip-path=\"url(#clip570)\" style=\"stroke:#000000; stroke-linecap:round; stroke-linejoin:round; stroke-width:4; stroke-opacity:1; fill:none\" points=\"\n  185.279,979.269 204.176,979.269 \n  \"/>\n<polyline clip-path=\"url(#clip570)\" style=\"stroke:#000000; stroke-linecap:round; stroke-linejoin:round; stroke-width:4; stroke-opacity:1; fill:none\" points=\"\n  185.279,671.371 204.176,671.371 \n  \"/>\n<polyline clip-path=\"url(#clip570)\" style=\"stroke:#000000; stroke-linecap:round; stroke-linejoin:round; stroke-width:4; stroke-opacity:1; fill:none\" points=\"\n  185.279,363.472 204.176,363.472 \n  \"/>\n<polyline clip-path=\"url(#clip570)\" style=\"stroke:#000000; stroke-linecap:round; stroke-linejoin:round; stroke-width:4; stroke-opacity:1; fill:none\" points=\"\n  185.279,55.574 204.176,55.574 \n  \"/>\n<path clip-path=\"url(#clip570)\" d=\"M62.9365 1272.97 Q59.3254 1272.97 57.4967 1276.53 Q55.6912 1280.07 55.6912 1287.2 Q55.6912 1294.31 57.4967 1297.87 Q59.3254 1301.42 62.9365 1301.42 Q66.5707 1301.42 68.3763 1297.87 Q70.205 1294.31 70.205 1287.2 Q70.205 1280.07 68.3763 1276.53 Q66.5707 1272.97 62.9365 1272.97 M62.9365 1269.26 Q68.7467 1269.26 71.8022 1273.87 Q74.8809 1278.45 74.8809 1287.2 Q74.8809 1295.93 71.8022 1300.54 Q68.7467 1305.12 62.9365 1305.12 Q57.1264 1305.12 54.0477 1300.54 Q50.9921 1295.93 50.9921 1287.2 Q50.9921 1278.45 54.0477 1273.87 Q57.1264 1269.26 62.9365 1269.26 Z\" fill=\"#000000\" fill-rule=\"evenodd\" fill-opacity=\"1\" /><path clip-path=\"url(#clip570)\" d=\"M83.0984 1298.57 L87.9827 1298.57 L87.9827 1304.45 L83.0984 1304.45 L83.0984 1298.57 Z\" fill=\"#000000\" fill-rule=\"evenodd\" fill-opacity=\"1\" /><path clip-path=\"url(#clip570)\" d=\"M96.9872 1269.89 L119.209 1269.89 L119.209 1271.88 L106.663 1304.45 L101.779 1304.45 L113.584 1273.82 L96.9872 1273.82 L96.9872 1269.89 Z\" fill=\"#000000\" fill-rule=\"evenodd\" fill-opacity=\"1\" /><path clip-path=\"url(#clip570)\" d=\"M128.376 1269.89 L146.732 1269.89 L146.732 1273.82 L132.658 1273.82 L132.658 1282.29 Q133.677 1281.95 134.695 1281.79 Q135.714 1281.6 136.732 1281.6 Q142.519 1281.6 145.899 1284.77 Q149.279 1287.94 149.279 1293.36 Q149.279 1298.94 145.806 1302.04 Q142.334 1305.12 136.015 1305.12 Q133.839 1305.12 131.57 1304.75 Q129.325 1304.38 126.918 1303.64 L126.918 1298.94 Q129.001 1300.07 131.223 1300.63 Q133.445 1301.18 135.922 1301.18 Q139.927 1301.18 142.265 1299.08 Q144.603 1296.97 144.603 1293.36 Q144.603 1289.75 142.265 1287.64 Q139.927 1285.54 135.922 1285.54 Q134.047 1285.54 132.172 1285.95 Q130.32 1286.37 128.376 1287.25 L128.376 1269.89 Z\" fill=\"#000000\" fill-rule=\"evenodd\" fill-opacity=\"1\" /><path clip-path=\"url(#clip570)\" d=\"M52.7514 992.614 L60.3902 992.614 L60.3902 966.248 L52.0801 967.915 L52.0801 963.656 L60.3439 961.989 L65.0198 961.989 L65.0198 992.614 L72.6587 992.614 L72.6587 996.549 L52.7514 996.549 L52.7514 992.614 Z\" fill=\"#000000\" fill-rule=\"evenodd\" fill-opacity=\"1\" /><path clip-path=\"url(#clip570)\" d=\"M82.1031 990.67 L86.9873 990.67 L86.9873 996.549 L82.1031 996.549 L82.1031 990.67 Z\" fill=\"#000000\" fill-rule=\"evenodd\" fill-opacity=\"1\" /><path clip-path=\"url(#clip570)\" d=\"M107.172 965.068 Q103.561 965.068 101.733 968.633 Q99.927 972.174 99.927 979.304 Q99.927 986.41 101.733 989.975 Q103.561 993.517 107.172 993.517 Q110.807 993.517 112.612 989.975 Q114.441 986.41 114.441 979.304 Q114.441 972.174 112.612 968.633 Q110.807 965.068 107.172 965.068 M107.172 961.364 Q112.983 961.364 116.038 965.971 Q119.117 970.554 119.117 979.304 Q119.117 988.031 116.038 992.637 Q112.983 997.22 107.172 997.22 Q101.362 997.22 98.2835 992.637 Q95.228 988.031 95.228 979.304 Q95.228 970.554 98.2835 965.971 Q101.362 961.364 107.172 961.364 Z\" fill=\"#000000\" fill-rule=\"evenodd\" fill-opacity=\"1\" /><path clip-path=\"url(#clip570)\" d=\"M137.334 965.068 Q133.723 965.068 131.894 968.633 Q130.089 972.174 130.089 979.304 Q130.089 986.41 131.894 989.975 Q133.723 993.517 137.334 993.517 Q140.968 993.517 142.774 989.975 Q144.603 986.41 144.603 979.304 Q144.603 972.174 142.774 968.633 Q140.968 965.068 137.334 965.068 M137.334 961.364 Q143.144 961.364 146.2 965.971 Q149.279 970.554 149.279 979.304 Q149.279 988.031 146.2 992.637 Q143.144 997.22 137.334 997.22 Q131.524 997.22 128.445 992.637 Q125.39 988.031 125.39 979.304 Q125.39 970.554 128.445 965.971 Q131.524 961.364 137.334 961.364 Z\" fill=\"#000000\" fill-rule=\"evenodd\" fill-opacity=\"1\" /><path clip-path=\"url(#clip570)\" d=\"M53.7467 684.716 L61.3856 684.716 L61.3856 658.35 L53.0754 660.017 L53.0754 655.757 L61.3393 654.091 L66.0152 654.091 L66.0152 684.716 L73.654 684.716 L73.654 688.651 L53.7467 688.651 L53.7467 684.716 Z\" fill=\"#000000\" fill-rule=\"evenodd\" fill-opacity=\"1\" /><path clip-path=\"url(#clip570)\" d=\"M83.0984 682.771 L87.9827 682.771 L87.9827 688.651 L83.0984 688.651 L83.0984 682.771 Z\" fill=\"#000000\" fill-rule=\"evenodd\" fill-opacity=\"1\" /><path clip-path=\"url(#clip570)\" d=\"M102.196 684.716 L118.515 684.716 L118.515 688.651 L96.5706 688.651 L96.5706 684.716 Q99.2326 681.961 103.816 677.331 Q108.422 672.679 109.603 671.336 Q111.848 668.813 112.728 667.077 Q113.631 665.318 113.631 663.628 Q113.631 660.873 111.686 659.137 Q109.765 657.401 106.663 657.401 Q104.464 657.401 102.01 658.165 Q99.5798 658.929 96.8021 660.48 L96.8021 655.757 Q99.6261 654.623 102.08 654.044 Q104.534 653.466 106.571 653.466 Q111.941 653.466 115.135 656.151 Q118.33 658.836 118.33 663.327 Q118.33 665.456 117.52 667.378 Q116.733 669.276 114.626 671.868 Q114.047 672.54 110.946 675.757 Q107.844 678.952 102.196 684.716 Z\" fill=\"#000000\" fill-rule=\"evenodd\" fill-opacity=\"1\" /><path clip-path=\"url(#clip570)\" d=\"M128.376 654.091 L146.732 654.091 L146.732 658.026 L132.658 658.026 L132.658 666.498 Q133.677 666.151 134.695 665.989 Q135.714 665.804 136.732 665.804 Q142.519 665.804 145.899 668.975 Q149.279 672.146 149.279 677.563 Q149.279 683.142 145.806 686.243 Q142.334 689.322 136.015 689.322 Q133.839 689.322 131.57 688.952 Q129.325 688.581 126.918 687.841 L126.918 683.142 Q129.001 684.276 131.223 684.831 Q133.445 685.387 135.922 685.387 Q139.927 685.387 142.265 683.28 Q144.603 681.174 144.603 677.563 Q144.603 673.952 142.265 671.845 Q139.927 669.739 135.922 669.739 Q134.047 669.739 132.172 670.155 Q130.32 670.572 128.376 671.452 L128.376 654.091 Z\" fill=\"#000000\" fill-rule=\"evenodd\" fill-opacity=\"1\" /><path clip-path=\"url(#clip570)\" d=\"M52.7514 376.817 L60.3902 376.817 L60.3902 350.452 L52.0801 352.118 L52.0801 347.859 L60.3439 346.192 L65.0198 346.192 L65.0198 376.817 L72.6587 376.817 L72.6587 380.752 L52.7514 380.752 L52.7514 376.817 Z\" fill=\"#000000\" fill-rule=\"evenodd\" fill-opacity=\"1\" /><path clip-path=\"url(#clip570)\" d=\"M82.1031 374.873 L86.9873 374.873 L86.9873 380.752 L82.1031 380.752 L82.1031 374.873 Z\" fill=\"#000000\" fill-rule=\"evenodd\" fill-opacity=\"1\" /><path clip-path=\"url(#clip570)\" d=\"M97.2187 346.192 L115.575 346.192 L115.575 350.128 L101.501 350.128 L101.501 358.6 Q102.52 358.253 103.538 358.09 Q104.557 357.905 105.575 357.905 Q111.362 357.905 114.742 361.077 Q118.121 364.248 118.121 369.664 Q118.121 375.243 114.649 378.345 Q111.177 381.424 104.858 381.424 Q102.682 381.424 100.413 381.053 Q98.1678 380.683 95.7604 379.942 L95.7604 375.243 Q97.8437 376.377 100.066 376.933 Q102.288 377.489 104.765 377.489 Q108.77 377.489 111.108 375.382 Q113.445 373.276 113.445 369.664 Q113.445 366.053 111.108 363.947 Q108.77 361.84 104.765 361.84 Q102.89 361.84 101.015 362.257 Q99.1632 362.674 97.2187 363.553 L97.2187 346.192 Z\" fill=\"#000000\" fill-rule=\"evenodd\" fill-opacity=\"1\" /><path clip-path=\"url(#clip570)\" d=\"M137.334 349.271 Q133.723 349.271 131.894 352.836 Q130.089 356.378 130.089 363.507 Q130.089 370.614 131.894 374.178 Q133.723 377.72 137.334 377.72 Q140.968 377.72 142.774 374.178 Q144.603 370.614 144.603 363.507 Q144.603 356.378 142.774 352.836 Q140.968 349.271 137.334 349.271 M137.334 345.567 Q143.144 345.567 146.2 350.174 Q149.279 354.757 149.279 363.507 Q149.279 372.234 146.2 376.84 Q143.144 381.424 137.334 381.424 Q131.524 381.424 128.445 376.84 Q125.39 372.234 125.39 363.507 Q125.39 354.757 128.445 350.174 Q131.524 345.567 137.334 345.567 Z\" fill=\"#000000\" fill-rule=\"evenodd\" fill-opacity=\"1\" /><path clip-path=\"url(#clip570)\" d=\"M53.7467 68.9188 L61.3856 68.9188 L61.3856 42.5532 L53.0754 44.2199 L53.0754 39.9607 L61.3393 38.294 L66.0152 38.294 L66.0152 68.9188 L73.654 68.9188 L73.654 72.854 L53.7467 72.854 L53.7467 68.9188 Z\" fill=\"#000000\" fill-rule=\"evenodd\" fill-opacity=\"1\" /><path clip-path=\"url(#clip570)\" d=\"M83.0984 66.9744 L87.9827 66.9744 L87.9827 72.854 L83.0984 72.854 L83.0984 66.9744 Z\" fill=\"#000000\" fill-rule=\"evenodd\" fill-opacity=\"1\" /><path clip-path=\"url(#clip570)\" d=\"M96.9872 38.294 L119.209 38.294 L119.209 40.2847 L106.663 72.854 L101.779 72.854 L113.584 42.2292 L96.9872 42.2292 L96.9872 38.294 Z\" fill=\"#000000\" fill-rule=\"evenodd\" fill-opacity=\"1\" /><path clip-path=\"url(#clip570)\" d=\"M128.376 38.294 L146.732 38.294 L146.732 42.2292 L132.658 42.2292 L132.658 50.7013 Q133.677 50.3541 134.695 50.1921 Q135.714 50.0069 136.732 50.0069 Q142.519 50.0069 145.899 53.1782 Q149.279 56.3495 149.279 61.7661 Q149.279 67.3448 145.806 70.4466 Q142.334 73.5253 136.015 73.5253 Q133.839 73.5253 131.57 73.1549 Q129.325 72.7846 126.918 72.0438 L126.918 67.3448 Q129.001 68.479 131.223 69.0346 Q133.445 69.5901 135.922 69.5901 Q139.927 69.5901 142.265 67.4837 Q144.603 65.3772 144.603 61.7661 Q144.603 58.155 142.265 56.0485 Q139.927 53.9421 135.922 53.9421 Q134.047 53.9421 132.172 54.3587 Q130.32 54.7754 128.376 55.655 L128.376 38.294 Z\" fill=\"#000000\" fill-rule=\"evenodd\" fill-opacity=\"1\" /><polyline clip-path=\"url(#clip572)\" style=\"stroke:#009af9; stroke-linecap:round; stroke-linejoin:round; stroke-width:4; stroke-opacity:1; fill:none\" points=\"\n  246.622,1320.56 1143.16,1445.72 1421.48,1303.59 2291.41,87.9763 700.684,994.959 246.622,1320.56 \n  \"/>\n<path clip-path=\"url(#clip570)\" d=\"\nM1987.25 198.898 L2280.51 198.898 L2280.51 95.2176 L1987.25 95.2176  Z\n  \" fill=\"#ffffff\" fill-rule=\"evenodd\" fill-opacity=\"1\"/>\n<polyline clip-path=\"url(#clip570)\" style=\"stroke:#000000; stroke-linecap:round; stroke-linejoin:round; stroke-width:4; stroke-opacity:1; fill:none\" points=\"\n  1987.25,198.898 2280.51,198.898 2280.51,95.2176 1987.25,95.2176 1987.25,198.898 \n  \"/>\n<polyline clip-path=\"url(#clip570)\" style=\"stroke:#009af9; stroke-linecap:round; stroke-linejoin:round; stroke-width:4; stroke-opacity:1; fill:none\" points=\"\n  2011.33,147.058 2155.83,147.058 \n  \"/>\n<path clip-path=\"url(#clip570)\" d=\"M2193.75 166.745 Q2191.95 171.375 2190.23 172.787 Q2188.52 174.199 2185.65 174.199 L2182.25 174.199 L2182.25 170.634 L2184.75 170.634 Q2186.51 170.634 2187.48 169.8 Q2188.45 168.967 2189.63 165.865 L2190.4 163.921 L2179.91 138.412 L2184.42 138.412 L2192.53 158.689 L2200.63 138.412 L2205.14 138.412 L2193.75 166.745 Z\" fill=\"#000000\" fill-rule=\"evenodd\" fill-opacity=\"1\" /><path clip-path=\"url(#clip570)\" d=\"M2212.43 160.402 L2220.07 160.402 L2220.07 134.037 L2211.76 135.703 L2211.76 131.444 L2220.03 129.778 L2224.7 129.778 L2224.7 160.402 L2232.34 160.402 L2232.34 164.338 L2212.43 164.338 L2212.43 160.402 Z\" fill=\"#000000\" fill-rule=\"evenodd\" fill-opacity=\"1\" /></svg>\n"
     },
     "execution_count": 204,
     "metadata": {},
     "output_type": "execute_result"
    }
   ],
   "source": [
    "n_vertice = 5\n",
    "a = GenerateRandomConvexPolygon(n_vertice)\n",
    "xs = []\n",
    "ys = []\n",
    "for i in 1:n_vertice\n",
    "    append!(xs,a[i].x)\n",
    "    append!(ys,a[i].y)\n",
    "end\n",
    "\n",
    "append!(xs,a[1].x)\n",
    "append!(ys,a[1].y)\n",
    "\n",
    "plot(xs,ys)"
   ]
  },
  {
   "cell_type": "code",
   "execution_count": 205,
   "metadata": {},
   "outputs": [
    {
     "data": {
      "text/plain": [
       "true"
      ]
     },
     "execution_count": 205,
     "metadata": {},
     "output_type": "execute_result"
    }
   ],
   "source": [
    "\n",
    "isConvex(a)"
   ]
  },
  {
   "cell_type": "markdown",
   "metadata": {},
   "source": [
    "reference: https://cglab.ca/~sander/misc/ConvexGeneration/convex.html"
   ]
  },
  {
   "cell_type": "markdown",
   "metadata": {},
   "source": [
    "### Convex Test for Polygons"
   ]
  },
  {
   "cell_type": "code",
   "execution_count": 202,
   "metadata": {},
   "outputs": [
    {
     "data": {
      "text/plain": [
       "isConvex (generic function with 1 method)"
      ]
     },
     "execution_count": 202,
     "metadata": {},
     "output_type": "execute_result"
    }
   ],
   "source": [
    "function isConvex(points)\n",
    "    convex = true\n",
    "    i = 1\n",
    "    m_min = 0\n",
    "    m_max = 0\n",
    "    prev = 0\n",
    "    next = 0\n",
    "    points_aux = []\n",
    "    k = 1\n",
    "    while (i <= length(points)) && convex\n",
    "        prev = (length(points)+i-2)%(length(points))+1\n",
    "        next = (i)%(length(points))+1\n",
    "\n",
    "        #println(\"\\nPonto atual: \", i, \", Ponto anterior: \", prev, \" Ponto seguinte: \", next)\n",
    "\n",
    "        x_prev = points[prev].x\n",
    "        x_now = points[i].x\n",
    "        x_next = points[next].x\n",
    "        y_prev = points[prev].y\n",
    "        y_now = points[i].y\n",
    "        y_next = points[next].y\n",
    "\n",
    "        #println(\"\\nPonto atual: x = \", x_now, \", y = \", y_now, \"\\n\")\n",
    "\n",
    "        for j in 1:length(points)\n",
    "            if (j != prev) && (j != next) && (j != i)\n",
    "                #println(\"O ponto = \", j, \" será analisado!\")\n",
    "                push!(points_aux, points[j])\n",
    "                k += 1\n",
    "            end\n",
    "        end\n",
    "        \n",
    "        #println(\"\\n\")\n",
    "\n",
    "        ang1 = 180*atan((y_prev - y_now)/(x_prev - x_now))/pi\n",
    "        ang2 = 180*atan((y_next - y_now)/(x_next - x_now))/pi\n",
    "        \n",
    "        if (x_prev < x_now)\n",
    "            ang1 = 180 + ang1\n",
    "        end\n",
    "        if (x_next < x_now)\n",
    "            ang2 = 180 + ang2\n",
    "        end\n",
    "\n",
    "        if ang1<ang2 \n",
    "            ang_min = ang1\n",
    "            ang_max = ang2\n",
    "        else\n",
    "            ang_max = ang1\n",
    "            ang_min = ang2\n",
    "        end\n",
    "\n",
    "        if (signbit(ang_min) != 1 && signbit(ang_max) != 1 && abs(ang_min-ang_max) > 180)\n",
    "            ang_max = ang_max-360\n",
    "            ang_aux = ang_min\n",
    "            ang_min = ang_max\n",
    "            ang_max = ang_aux\n",
    "        elseif (signbit(ang_min) && abs(ang_min-ang_max) > 180)\n",
    "            ang_min = 360 + ang_min\n",
    "            ang_aux = ang_max\n",
    "            ang_max = ang_min\n",
    "            ang_min = ang_aux\n",
    "        end\n",
    "\n",
    "            \n",
    "\n",
    "        #println(\"Ang_min = \", ang_min)\n",
    "        #println(\"Ang_max = \", ang_max)\n",
    "\n",
    "        for p in points_aux\n",
    "            #println(\"\\nPonto \", i, \", em relação ao Ponto x = \", p.x, \", y = \", p.y)\n",
    "            ang = 180*atan((p.y - y_now)/(p.x - x_now))/pi\n",
    "            if (p.x < x_now)\n",
    "                ang = 180 + ang\n",
    "            end\n",
    "            if (ang < ang_min) || (ang > ang_max)\n",
    "                if signbit(ang)\n",
    "                    ang = 360+ang\n",
    "                    if (ang < ang_min) || (ang > ang_max)\n",
    "                        convex = false\n",
    "                        #println(\"Não é convexo, pois ang = \", ang)\n",
    "                        break\n",
    "                    end\n",
    "                else\n",
    "                    convex = false\n",
    "                    #println(\"Não é convexo, pois ang = \", ang)\n",
    "                    break\n",
    "                end\n",
    "            end\n",
    "            #println(\"Sem problemas de convexidade, pois ang = \", ang)\n",
    "        end\n",
    "\n",
    "        points_aux = []\n",
    "\n",
    "        i += 1\n",
    "    end   \n",
    "    return convex\n",
    "end"
   ]
  }
 ],
 "metadata": {
  "kernelspec": {
   "display_name": "Julia 1.8.1",
   "language": "julia",
   "name": "julia-1.8"
  },
  "language_info": {
   "file_extension": ".jl",
   "mimetype": "application/julia",
   "name": "julia",
   "version": "1.8.1"
  },
  "orig_nbformat": 4
 },
 "nbformat": 4,
 "nbformat_minor": 2
}
